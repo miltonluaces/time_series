{
 "cells": [
  {
   "cell_type": "markdown",
   "metadata": {},
   "source": [
    "# Unevenly spaced time series"
   ]
  },
  {
   "cell_type": "code",
   "execution_count": 8,
   "metadata": {},
   "outputs": [],
   "source": [
    "import sys\n",
    "sys.path.append('D:/source/repos')\n",
    "from utilities.std_imports import *\n",
    "import datetime as dt\n",
    "import traces as tr"
   ]
  },
  {
   "cell_type": "markdown",
   "metadata": {},
   "source": [
    "### Create time series"
   ]
  },
  {
   "cell_type": "code",
   "execution_count": 11,
   "metadata": {},
   "outputs": [
    {
     "data": {
      "text/plain": [
       "<TimeSeries>\n",
       "{datetime.datetime(2021, 2, 1, 6, 0): 0,\n",
       " datetime.datetime(2021, 2, 1, 7, 45, 56): 1,\n",
       " datetime.datetime(2021, 2, 1, 8, 51, 42): 0,\n",
       " datetime.datetime(2021, 2, 1, 12, 3, 56): 1,\n",
       " datetime.datetime(2021, 2, 1, 12, 7, 13): 0}\n",
       "</TimeSeries>"
      ]
     },
     "execution_count": 11,
     "metadata": {},
     "output_type": "execute_result"
    }
   ],
   "source": [
    "ts = tr.TimeSeries()\n",
    "ts[dt.datetime(2021, 2, 1,  6,  0,  0)] = 0 \n",
    "ts[dt.datetime(2021, 2, 1,  7, 45, 56)] = 1 \n",
    "ts[dt.datetime(2021, 2, 1,  8, 51, 42)] = 0 \n",
    "ts[dt.datetime(2021, 2, 1, 12,  3, 56)] = 1 \n",
    "ts[dt.datetime(2021, 2, 1, 12,  7, 13)] = 0 \n",
    "ts"
   ]
  },
  {
   "cell_type": "markdown",
   "metadata": {},
   "source": [
    "### Get histogram and statistics"
   ]
  },
  {
   "cell_type": "code",
   "execution_count": 20,
   "metadata": {},
   "outputs": [
    {
     "data": {
      "text/plain": [
       "0.0"
      ]
     },
     "execution_count": 20,
     "metadata": {},
     "output_type": "execute_result"
    }
   ],
   "source": [
    "hist = ts.distribution(start=dt.datetime(2021, 2, 1,  6,  0,  0), end=dt.datetime(2021, 2, 1,  13,  0,  0))\n",
    "hist.median()"
   ]
  },
  {
   "cell_type": "markdown",
   "metadata": {},
   "source": [
    "### Convert to regular time series"
   ]
  },
  {
   "cell_type": "code",
   "execution_count": 23,
   "metadata": {},
   "outputs": [
    {
     "data": {
      "text/plain": [
       "2021-02-01 06:00:00    0.000000\n",
       "2021-02-01 06:05:00    0.000000\n",
       "2021-02-01 06:10:00    0.000000\n",
       "2021-02-01 06:15:00    0.000000\n",
       "2021-02-01 06:20:00    0.000000\n",
       "                         ...   \n",
       "2021-02-01 11:45:00    0.000000\n",
       "2021-02-01 11:50:00    0.000000\n",
       "2021-02-01 11:55:00    0.000000\n",
       "2021-02-01 12:00:00    0.000000\n",
       "2021-02-01 12:05:00    0.656667\n",
       "Length: 74, dtype: float64"
      ]
     },
     "execution_count": 23,
     "metadata": {},
     "output_type": "execute_result"
    }
   ],
   "source": [
    "ts_reg = ts.moving_average(300, pandas=True)\n",
    "ts_reg"
   ]
  },
  {
   "cell_type": "markdown",
   "metadata": {},
   "source": [
    "### Credits & Links"
   ]
  },
  {
   "cell_type": "markdown",
   "metadata": {},
   "source": [
    "https://traces.readthedocs.io/en/latest/examples.html#read-and-manipulate"
   ]
  }
 ],
 "metadata": {
  "kernelspec": {
   "display_name": "Python 3.8.1 64-bit",
   "language": "python",
   "name": "python38164bitc33de82c9da04edea88eb124459bf44a"
  },
  "language_info": {
   "codemirror_mode": {
    "name": "ipython",
    "version": 3
   },
   "file_extension": ".py",
   "mimetype": "text/x-python",
   "name": "python",
   "nbconvert_exporter": "python",
   "pygments_lexer": "ipython3",
   "version": "3.8.6"
  }
 },
 "nbformat": 4,
 "nbformat_minor": 4
}
