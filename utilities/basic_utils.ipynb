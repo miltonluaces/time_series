{
 "cells": [
  {
   "cell_type": "markdown",
   "metadata": {},
   "source": [
    "# Basic utilities"
   ]
  },
  {
   "cell_type": "code",
   "execution_count": 3,
   "metadata": {},
   "outputs": [],
   "source": [
    "import sys\n",
    "sys.path.append('D:/source/repos')\n",
    "from utilities.std_imports import *\n",
    "import time_series.utilities.basic_utils as bu"
   ]
  },
  {
   "cell_type": "markdown",
   "metadata": {},
   "source": [
    "### Load data"
   ]
  },
  {
   "cell_type": "code",
   "execution_count": 4,
   "metadata": {},
   "outputs": [],
   "source": [
    "dt1 = [123, 112, 118, 104, 105, 107, 114, 119, 123, 127, 132, 144]\n",
    "dt2 = [145, 157, 162, 170, 173]\n",
    "dt3 = [148, 152, 163, 170, 174]\n",
    "\n",
    "idx = pd.DatetimeIndex(['2020-01-01', '2020-01-02','2020-01-03', '2020-01-04', '2020-01-05', '2020-01-06', '2020-01-07', '2020-01-08', '2020-01-09', '2020-01-10', '2020-01-11', '2020-01-12'])\n",
    "ts1 = pd.Series(data = dt1, index=idx)\n",
    "idxs = [0, 4, 6, 7, 12, 15, 18]\n",
    "ts2 = pd.Series(data=dt1, index=range(len(dt1)))\n",
    "ts3 = pd.Series(data=dt2, index=range(len(dt2)))\n",
    "\n",
    "df = pd.DataFrame({'ts1' : ts2*2, 'ts2' : ts2})"
   ]
  },
  {
   "cell_type": "markdown",
   "metadata": {},
   "source": [
    "### Methods"
   ]
  },
  {
   "cell_type": "markdown",
   "metadata": {},
   "source": [
    "Transform an asc list of indexes in a binary array"
   ]
  },
  {
   "cell_type": "code",
   "execution_count": 5,
   "metadata": {},
   "outputs": [
    {
     "output_type": "execute_result",
     "data": {
      "text/plain": [
       "[1, 0, 0, 0, 1, 0, 1, 1, 0, 0, 0, 0, 1, 0, 0, 1, 0, 0, 1]"
      ]
     },
     "metadata": {},
     "execution_count": 5
    }
   ],
   "source": [
    "ba = bu.idx2bin_array(idxs)\n",
    "ba"
   ]
  },
  {
   "cell_type": "markdown",
   "metadata": {},
   "source": [
    "Time series to Dataframe with column of indexes"
   ]
  },
  {
   "cell_type": "code",
   "execution_count": 10,
   "metadata": {},
   "outputs": [
    {
     "data": {
      "text/html": [
       "<div>\n",
       "<style scoped>\n",
       "    .dataframe tbody tr th:only-of-type {\n",
       "        vertical-align: middle;\n",
       "    }\n",
       "\n",
       "    .dataframe tbody tr th {\n",
       "        vertical-align: top;\n",
       "    }\n",
       "\n",
       "    .dataframe thead th {\n",
       "        text-align: right;\n",
       "    }\n",
       "</style>\n",
       "<table border=\"1\" class=\"dataframe\">\n",
       "  <thead>\n",
       "    <tr style=\"text-align: right;\">\n",
       "      <th></th>\n",
       "      <th>0</th>\n",
       "    </tr>\n",
       "  </thead>\n",
       "  <tbody>\n",
       "    <tr>\n",
       "      <th>123</th>\n",
       "      <td>0</td>\n",
       "    </tr>\n",
       "    <tr>\n",
       "      <th>112</th>\n",
       "      <td>1</td>\n",
       "    </tr>\n",
       "    <tr>\n",
       "      <th>118</th>\n",
       "      <td>2</td>\n",
       "    </tr>\n",
       "    <tr>\n",
       "      <th>104</th>\n",
       "      <td>3</td>\n",
       "    </tr>\n",
       "    <tr>\n",
       "      <th>105</th>\n",
       "      <td>4</td>\n",
       "    </tr>\n",
       "    <tr>\n",
       "      <th>107</th>\n",
       "      <td>5</td>\n",
       "    </tr>\n",
       "    <tr>\n",
       "      <th>114</th>\n",
       "      <td>6</td>\n",
       "    </tr>\n",
       "    <tr>\n",
       "      <th>119</th>\n",
       "      <td>7</td>\n",
       "    </tr>\n",
       "    <tr>\n",
       "      <th>123</th>\n",
       "      <td>8</td>\n",
       "    </tr>\n",
       "    <tr>\n",
       "      <th>127</th>\n",
       "      <td>9</td>\n",
       "    </tr>\n",
       "    <tr>\n",
       "      <th>132</th>\n",
       "      <td>10</td>\n",
       "    </tr>\n",
       "    <tr>\n",
       "      <th>144</th>\n",
       "      <td>11</td>\n",
       "    </tr>\n",
       "  </tbody>\n",
       "</table>\n",
       "</div>"
      ],
      "text/plain": [
       "      0\n",
       "123   0\n",
       "112   1\n",
       "118   2\n",
       "104   3\n",
       "105   4\n",
       "107   5\n",
       "114   6\n",
       "119   7\n",
       "123   8\n",
       "127   9\n",
       "132  10\n",
       "144  11"
      ]
     },
     "execution_count": 10,
     "metadata": {},
     "output_type": "execute_result"
    }
   ],
   "source": [
    "df = bu.ts2df_idxed(ts1); df"
   ]
  },
  {
   "cell_type": "markdown",
   "metadata": {},
   "source": [
    "Padding"
   ]
  },
  {
   "cell_type": "code",
   "execution_count": 12,
   "metadata": {},
   "outputs": [
    {
     "name": "stdout",
     "output_type": "stream",
     "text": [
      "Original\n",
      "\n",
      "0     123\n",
      "1     112\n",
      "2     118\n",
      "3     104\n",
      "4     105\n",
      "5     107\n",
      "6     114\n",
      "7     119\n",
      "8     123\n",
      "9     127\n",
      "10    132\n",
      "11    144\n",
      "dtype: int64\n",
      "Padded right\n",
      "\n",
      "-2      0.0\n",
      "-1      0.0\n",
      "0     123.0\n",
      "1     112.0\n",
      "2     118.0\n",
      "3     104.0\n",
      "4     105.0\n",
      "5     107.0\n",
      "6     114.0\n",
      "7     119.0\n",
      "8     123.0\n",
      "9     127.0\n",
      "10    132.0\n",
      "11    144.0\n",
      "dtype: float64\n",
      "Padded left\n",
      "\n",
      "0     123.0\n",
      "1     112.0\n",
      "2     118.0\n",
      "3     104.0\n",
      "4     105.0\n",
      "5     107.0\n",
      "6     114.0\n",
      "7     119.0\n",
      "8     123.0\n",
      "9     127.0\n",
      "10    132.0\n",
      "11    144.0\n",
      "12      0.0\n",
      "13      0.0\n",
      "dtype: float64\n"
     ]
    }
   ],
   "source": [
    "ts2_pr = bu.pad(ts2, 2, False)     \n",
    "ts2_pl = bu.pad(ts2, 2, True)     \n",
    "print('Original\\n')\n",
    "print(ts2)\n",
    "print('Padded right\\n')\n",
    "print(ts2_pr)\n",
    "print('Padded left\\n')\n",
    "print(ts2_pl)"
   ]
  }
 ],
 "metadata": {
  "kernelspec": {
   "display_name": "Python 3",
   "language": "python",
   "name": "python3"
  },
  "language_info": {
   "codemirror_mode": {
    "name": "ipython",
    "version": 3
   },
   "file_extension": ".py",
   "mimetype": "text/x-python",
   "name": "python",
   "nbconvert_exporter": "python",
   "pygments_lexer": "ipython3",
   "version": "3.8.6-final"
  }
 },
 "nbformat": 4,
 "nbformat_minor": 4
}