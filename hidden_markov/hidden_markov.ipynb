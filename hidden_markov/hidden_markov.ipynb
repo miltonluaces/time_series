{
 "cells": [
  {
   "cell_type": "markdown",
   "metadata": {},
   "source": [
    "# Hidden Markov chains"
   ]
  },
  {
   "cell_type": "code",
   "execution_count": 2,
   "metadata": {},
   "outputs": [],
   "source": [
    "import numpy as np\n",
    "from hmmlearn import hmm"
   ]
  },
  {
   "cell_type": "code",
   "execution_count": 4,
   "metadata": {},
   "outputs": [],
   "source": [
    "startprob = np.array([0.6, 0.3, 0.1])\n",
    "transmat = np.array([[0.7, 0.2, 0.1], [0.3, 0.5, 0.2], [0.3, 0.3, 0.4]])\n",
    "means = np.array([[0.0, 0.0], [3.0, -3.0], [5.0, 10.0]])\n",
    "covars = np.tile(np.identity(2), (3, 1, 1))"
   ]
  },
  {
   "cell_type": "code",
   "execution_count": 5,
   "metadata": {},
   "outputs": [],
   "source": [
    "np.random.seed(42)\n",
    "model = hmm.GaussianHMM(n_components=3, covariance_type=\"full\")\n",
    "model.startprob_ = startprob\n",
    "model.transmat_ = transmat\n",
    "model.means_ = means\n",
    "model.covars_ = covars"
   ]
  },
  {
   "cell_type": "code",
   "execution_count": 9,
   "metadata": {},
   "outputs": [
    {
     "name": "stdout",
     "output_type": "stream",
     "text": [
      "[[-0.60196868  0.76025109]\n",
      " [ 0.52980418  1.44156862]\n",
      " [-1.77024319 -1.03262907]\n",
      " [ 5.37114587  9.39601481]\n",
      " [ 5.48804408 11.5801341 ]\n",
      " [ 5.33760266  9.58812303]\n",
      " [-0.31847851 -0.31905702]\n",
      " [ 3.28977486 -0.9245992 ]\n",
      " [ 2.72979668 -2.05238306]\n",
      " [ 2.96187546  8.99191369]]\n",
      "[0 0 0 2 2 2 0 1 1 2 1 1 1 1 0 0 0 1 1 2 2 2 2 1 1 1 1 0 0 2 2 1 2 2 2 1 1\n",
      " 1 0 2 0 0 0 0 0 0 0 2 2 0 0 0 0 0 1 0 0 1 0 0 0 2 2 2 0 0 2 0 0 1 1 2 1 1\n",
      " 0 0 0 0 0 1 1 2 0 0 0 1 1 1 0 0 2 2 0 0 0 0 0 0 2 1]\n"
     ]
    }
   ],
   "source": [
    "X, Z = model.sample(100)\n",
    "print(X[:10])\n",
    "print(Z)"
   ]
  },
  {
   "cell_type": "markdown",
   "metadata": {},
   "source": [
    "### Credits & Links"
   ]
  },
  {
   "cell_type": "markdown",
   "metadata": {},
   "source": [
    "https://hmmlearn.readthedocs.io/en/stable/tutorial.html#building-hmm-and-generating-samples"
   ]
  }
 ],
 "metadata": {
  "kernelspec": {
   "display_name": "Python 3.8.1 64-bit",
   "language": "python",
   "name": "python38164bitc33de82c9da04edea88eb124459bf44a"
  },
  "language_info": {
   "codemirror_mode": {
    "name": "ipython",
    "version": 3
   },
   "file_extension": ".py",
   "mimetype": "text/x-python",
   "name": "python",
   "nbconvert_exporter": "python",
   "pygments_lexer": "ipython3",
   "version": "3.8.6"
  }
 },
 "nbformat": 4,
 "nbformat_minor": 4
}
