{
 "cells": [
  {
   "cell_type": "markdown",
   "metadata": {},
   "source": [
    "# Hidden Markov chains"
   ]
  },
  {
   "cell_type": "code",
   "execution_count": 2,
   "metadata": {},
   "outputs": [],
   "source": [
    "from utilities.std_imports import *\n",
    "from hmmlearn import hmm"
   ]
  },
  {
   "cell_type": "code",
   "execution_count": 5,
   "metadata": {},
   "outputs": [],
   "source": [
    "startprob = np.array([0.6, 0.3, 0.1])\n",
    "transmat = np.array([[0.7, 0.2, 0.1], [0.3, 0.5, 0.2], [0.3, 0.3, 0.4]])\n",
    "means = np.array([[0.0, 0.0], [3.0, -3.0], [5.0, 10.0]])\n",
    "covars = np.tile(np.identity(2), (3, 1, 1))"
   ]
  },
  {
   "cell_type": "code",
   "execution_count": 6,
   "metadata": {},
   "outputs": [],
   "source": [
    "np.random.seed(42)\n",
    "model = hmm.GaussianHMM(n_components=3, covariance_type=\"full\")\n",
    "model.startprob_ = startprob\n",
    "model.transmat_ = transmat\n",
    "model.means_ = means\n",
    "model.covars_ = covars"
   ]
  },
  {
   "cell_type": "code",
   "execution_count": 7,
   "metadata": {},
   "outputs": [
    {
     "name": "stdout",
     "output_type": "stream",
     "text": [
      "[[-1.11188012  0.31890218]\n",
      " [ 1.57921282  0.76743473]\n",
      " [-0.58087813 -0.52516981]\n",
      " [ 0.24196227 -1.91328024]\n",
      " [ 0.81644508 -1.523876  ]\n",
      " [-0.90802408 -1.4123037 ]\n",
      " [-0.62947496  0.59772047]\n",
      " [-0.54438272  0.11092259]\n",
      " [-0.60025385  0.94743982]\n",
      " [-0.60170661  1.85227818]]\n",
      "[0 0 0 0 0 0 0 0 0 0 0 2 1 0 0 0 0 1 0 1 2 0 1 1 1 1 0 0 0 0 2 2 2 2 0 1 1\n",
      " 1 1 2 0 0 0 0 0 0 0 0 0 0 0 0 2 2 1 2 1 2 2 0 0 0 1 1 1 1 2 2 1 1 2 2 2 1\n",
      " 1 2 2 2 2 2 2 2 1 0 0 0 0 0 0 0 1 0 0 0 0 0 0 0 0 0]\n"
     ]
    }
   ],
   "source": [
    "X, Z = model.sample(100)\n",
    "print(X[:10])\n",
    "print(Z)"
   ]
  },
  {
   "cell_type": "markdown",
   "metadata": {},
   "source": [
    "### Credits & Links"
   ]
  },
  {
   "cell_type": "markdown",
   "metadata": {},
   "source": [
    "https://hmmlearn.readthedocs.io/en/stable/tutorial.html#building-hmm-and-generating-samples  \n",
    "https://www.bayespy.org/examples/hmm.html"
   ]
  }
 ],
 "metadata": {
  "kernelspec": {
   "display_name": "Python 3",
   "language": "python",
   "name": "python3"
  },
  "language_info": {
   "codemirror_mode": {
    "name": "ipython",
    "version": 3
   },
   "file_extension": ".py",
   "mimetype": "text/x-python",
   "name": "python",
   "nbconvert_exporter": "python",
   "pygments_lexer": "ipython3",
   "version": "3.8.6"
  }
 },
 "nbformat": 4,
 "nbformat_minor": 4
}
