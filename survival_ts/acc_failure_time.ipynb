{
 "cells": [
  {
   "cell_type": "markdown",
   "metadata": {},
   "source": [
    "# Survival models: Accelerated failure time (AFT)"
   ]
  },
  {
   "cell_type": "code",
   "execution_count": 1,
   "metadata": {},
   "outputs": [],
   "source": [
    "from utilities.std_imports import *\n",
    "from lifelines import WeibullAFTFitter\n",
    "from lifelines.datasets import load_rossi"
   ]
  },
  {
   "cell_type": "markdown",
   "metadata": {},
   "source": [
    "Humans live approximately 7 times more than average dogs"
   ]
  },
  {
   "cell_type": "markdown",
   "metadata": {},
   "source": [
    "![](img/dog_age.jpg)"
   ]
  },
  {
   "cell_type": "markdown",
   "metadata": {},
   "source": [
    "$ \\large S_a(t) = S_b(\\frac{t}{\\lambda}) $ "
   ]
  },
  {
   "cell_type": "markdown",
   "metadata": {},
   "source": [
    "$ \\large \\lambda(x) = \\exp(\\beta_0 + \\sum_{x=1}^n \\beta_i x_i) $ "
   ]
  },
  {
   "cell_type": "markdown",
   "metadata": {},
   "source": [
    "Similar to proportional hazzards model with the probability but here with the time: a unit increase in $x_i$ means the average/median survival *time* changes by a factor of $exp(\\beta_i)$."
   ]
  },
  {
   "cell_type": "markdown",
   "metadata": {},
   "source": [
    "### Weilbull distribution"
   ]
  },
  {
   "cell_type": "markdown",
   "metadata": {},
   "source": [
    " ![](img/failure_rate.png)"
   ]
  },
  {
   "cell_type": "markdown",
   "metadata": {},
   "source": [
    "Hazzards function"
   ]
  },
  {
   "cell_type": "markdown",
   "metadata": {},
   "source": [
    "$ \\large h(t) = \\Big( \\frac{t}{\\lambda(x)} \\Big)^\\rho $"
   ]
  },
  {
   "cell_type": "code",
   "execution_count": 2,
   "metadata": {},
   "outputs": [
    {
     "data": {
      "text/html": [
       "<div>\n",
       "<style scoped>\n",
       "    .dataframe tbody tr th:only-of-type {\n",
       "        vertical-align: middle;\n",
       "    }\n",
       "\n",
       "    .dataframe tbody tr th {\n",
       "        vertical-align: top;\n",
       "    }\n",
       "\n",
       "    .dataframe thead th {\n",
       "        text-align: right;\n",
       "    }\n",
       "</style>\n",
       "<table border=\"1\" class=\"dataframe\">\n",
       "  <thead>\n",
       "    <tr style=\"text-align: right;\">\n",
       "      <th></th>\n",
       "      <th>week</th>\n",
       "      <th>arrest</th>\n",
       "      <th>fin</th>\n",
       "      <th>age</th>\n",
       "      <th>race</th>\n",
       "      <th>wexp</th>\n",
       "      <th>mar</th>\n",
       "      <th>paro</th>\n",
       "      <th>prio</th>\n",
       "    </tr>\n",
       "  </thead>\n",
       "  <tbody>\n",
       "    <tr>\n",
       "      <th>0</th>\n",
       "      <td>20</td>\n",
       "      <td>1</td>\n",
       "      <td>0</td>\n",
       "      <td>27</td>\n",
       "      <td>1</td>\n",
       "      <td>0</td>\n",
       "      <td>0</td>\n",
       "      <td>1</td>\n",
       "      <td>3</td>\n",
       "    </tr>\n",
       "    <tr>\n",
       "      <th>1</th>\n",
       "      <td>17</td>\n",
       "      <td>1</td>\n",
       "      <td>0</td>\n",
       "      <td>18</td>\n",
       "      <td>1</td>\n",
       "      <td>0</td>\n",
       "      <td>0</td>\n",
       "      <td>1</td>\n",
       "      <td>8</td>\n",
       "    </tr>\n",
       "    <tr>\n",
       "      <th>2</th>\n",
       "      <td>25</td>\n",
       "      <td>1</td>\n",
       "      <td>0</td>\n",
       "      <td>19</td>\n",
       "      <td>0</td>\n",
       "      <td>1</td>\n",
       "      <td>0</td>\n",
       "      <td>1</td>\n",
       "      <td>13</td>\n",
       "    </tr>\n",
       "    <tr>\n",
       "      <th>3</th>\n",
       "      <td>52</td>\n",
       "      <td>0</td>\n",
       "      <td>1</td>\n",
       "      <td>23</td>\n",
       "      <td>1</td>\n",
       "      <td>1</td>\n",
       "      <td>1</td>\n",
       "      <td>1</td>\n",
       "      <td>1</td>\n",
       "    </tr>\n",
       "    <tr>\n",
       "      <th>4</th>\n",
       "      <td>52</td>\n",
       "      <td>0</td>\n",
       "      <td>0</td>\n",
       "      <td>19</td>\n",
       "      <td>0</td>\n",
       "      <td>1</td>\n",
       "      <td>0</td>\n",
       "      <td>1</td>\n",
       "      <td>3</td>\n",
       "    </tr>\n",
       "  </tbody>\n",
       "</table>\n",
       "</div>"
      ],
      "text/plain": [
       "   week  arrest  fin  age  race  wexp  mar  paro  prio\n",
       "0    20       1    0   27     1     0    0     1     3\n",
       "1    17       1    0   18     1     0    0     1     8\n",
       "2    25       1    0   19     0     1    0     1    13\n",
       "3    52       0    1   23     1     1    1     1     1\n",
       "4    52       0    0   19     0     1    0     1     3"
      ]
     },
     "execution_count": 2,
     "metadata": {},
     "output_type": "execute_result"
    }
   ],
   "source": [
    "df = load_rossi()\n",
    "df.head()"
   ]
  },
  {
   "cell_type": "code",
   "execution_count": 5,
   "metadata": {},
   "outputs": [
    {
     "data": {
      "text/html": [
       "<div>\n",
       "<style scoped>\n",
       "    .dataframe tbody tr th:only-of-type {\n",
       "        vertical-align: middle;\n",
       "    }\n",
       "\n",
       "    .dataframe tbody tr th {\n",
       "        vertical-align: top;\n",
       "    }\n",
       "\n",
       "    .dataframe thead th {\n",
       "        text-align: right;\n",
       "    }\n",
       "</style>\n",
       "<table border=\"1\" class=\"dataframe\">\n",
       "  <tbody>\n",
       "    <tr>\n",
       "      <th>model</th>\n",
       "      <td>lifelines.WeibullAFTFitter</td>\n",
       "    </tr>\n",
       "    <tr>\n",
       "      <th>duration col</th>\n",
       "      <td>'week'</td>\n",
       "    </tr>\n",
       "    <tr>\n",
       "      <th>event col</th>\n",
       "      <td>'arrest'</td>\n",
       "    </tr>\n",
       "    <tr>\n",
       "      <th>number of observations</th>\n",
       "      <td>432</td>\n",
       "    </tr>\n",
       "    <tr>\n",
       "      <th>number of events observed</th>\n",
       "      <td>114</td>\n",
       "    </tr>\n",
       "    <tr>\n",
       "      <th>log-likelihood</th>\n",
       "      <td>-679.917</td>\n",
       "    </tr>\n",
       "    <tr>\n",
       "      <th>time fit was run</th>\n",
       "      <td>2020-08-06 17:43:49 UTC</td>\n",
       "    </tr>\n",
       "  </tbody>\n",
       "</table>\n",
       "</div><table border=\"1\" class=\"dataframe\">\n",
       "  <thead>\n",
       "    <tr style=\"text-align: right;\">\n",
       "      <th></th>\n",
       "      <th></th>\n",
       "      <th>coef</th>\n",
       "      <th>exp(coef)</th>\n",
       "      <th>se(coef)</th>\n",
       "      <th>coef lower 95%</th>\n",
       "      <th>coef upper 95%</th>\n",
       "      <th>exp(coef) lower 95%</th>\n",
       "      <th>exp(coef) upper 95%</th>\n",
       "      <th>z</th>\n",
       "      <th>p</th>\n",
       "      <th>-log2(p)</th>\n",
       "    </tr>\n",
       "    <tr>\n",
       "      <th>param</th>\n",
       "      <th>covariate</th>\n",
       "      <th></th>\n",
       "      <th></th>\n",
       "      <th></th>\n",
       "      <th></th>\n",
       "      <th></th>\n",
       "      <th></th>\n",
       "      <th></th>\n",
       "      <th></th>\n",
       "      <th></th>\n",
       "      <th></th>\n",
       "    </tr>\n",
       "  </thead>\n",
       "  <tbody>\n",
       "    <tr>\n",
       "      <th rowspan=\"8\" valign=\"top\">lambda_</th>\n",
       "      <th>age</th>\n",
       "      <td>0.041</td>\n",
       "      <td>1.042</td>\n",
       "      <td>0.016</td>\n",
       "      <td>0.009</td>\n",
       "      <td>0.072</td>\n",
       "      <td>1.009</td>\n",
       "      <td>1.075</td>\n",
       "      <td>2.544</td>\n",
       "      <td>0.011</td>\n",
       "      <td>6.512</td>\n",
       "    </tr>\n",
       "    <tr>\n",
       "      <th>fin</th>\n",
       "      <td>0.272</td>\n",
       "      <td>1.313</td>\n",
       "      <td>0.138</td>\n",
       "      <td>0.002</td>\n",
       "      <td>0.543</td>\n",
       "      <td>1.002</td>\n",
       "      <td>1.720</td>\n",
       "      <td>1.973</td>\n",
       "      <td>0.049</td>\n",
       "      <td>4.365</td>\n",
       "    </tr>\n",
       "    <tr>\n",
       "      <th>mar</th>\n",
       "      <td>0.311</td>\n",
       "      <td>1.365</td>\n",
       "      <td>0.273</td>\n",
       "      <td>-0.224</td>\n",
       "      <td>0.847</td>\n",
       "      <td>0.799</td>\n",
       "      <td>2.332</td>\n",
       "      <td>1.139</td>\n",
       "      <td>0.255</td>\n",
       "      <td>1.973</td>\n",
       "    </tr>\n",
       "    <tr>\n",
       "      <th>paro</th>\n",
       "      <td>0.059</td>\n",
       "      <td>1.061</td>\n",
       "      <td>0.140</td>\n",
       "      <td>-0.215</td>\n",
       "      <td>0.333</td>\n",
       "      <td>0.807</td>\n",
       "      <td>1.394</td>\n",
       "      <td>0.421</td>\n",
       "      <td>0.674</td>\n",
       "      <td>0.570</td>\n",
       "    </tr>\n",
       "    <tr>\n",
       "      <th>prio</th>\n",
       "      <td>-0.066</td>\n",
       "      <td>0.936</td>\n",
       "      <td>0.021</td>\n",
       "      <td>-0.107</td>\n",
       "      <td>-0.025</td>\n",
       "      <td>0.899</td>\n",
       "      <td>0.976</td>\n",
       "      <td>-3.143</td>\n",
       "      <td>0.002</td>\n",
       "      <td>9.224</td>\n",
       "    </tr>\n",
       "    <tr>\n",
       "      <th>race</th>\n",
       "      <td>-0.225</td>\n",
       "      <td>0.799</td>\n",
       "      <td>0.220</td>\n",
       "      <td>-0.656</td>\n",
       "      <td>0.207</td>\n",
       "      <td>0.519</td>\n",
       "      <td>1.230</td>\n",
       "      <td>-1.021</td>\n",
       "      <td>0.307</td>\n",
       "      <td>1.703</td>\n",
       "    </tr>\n",
       "    <tr>\n",
       "      <th>wexp</th>\n",
       "      <td>0.107</td>\n",
       "      <td>1.112</td>\n",
       "      <td>0.152</td>\n",
       "      <td>-0.190</td>\n",
       "      <td>0.404</td>\n",
       "      <td>0.827</td>\n",
       "      <td>1.497</td>\n",
       "      <td>0.703</td>\n",
       "      <td>0.482</td>\n",
       "      <td>1.053</td>\n",
       "    </tr>\n",
       "    <tr>\n",
       "      <th>Intercept</th>\n",
       "      <td>3.990</td>\n",
       "      <td>54.062</td>\n",
       "      <td>0.419</td>\n",
       "      <td>3.169</td>\n",
       "      <td>4.812</td>\n",
       "      <td>23.777</td>\n",
       "      <td>122.921</td>\n",
       "      <td>9.521</td>\n",
       "      <td>&lt;0.0005</td>\n",
       "      <td>68.978</td>\n",
       "    </tr>\n",
       "    <tr>\n",
       "      <th>rho_</th>\n",
       "      <th>Intercept</th>\n",
       "      <td>0.339</td>\n",
       "      <td>1.404</td>\n",
       "      <td>0.089</td>\n",
       "      <td>0.165</td>\n",
       "      <td>0.514</td>\n",
       "      <td>1.179</td>\n",
       "      <td>1.671</td>\n",
       "      <td>3.809</td>\n",
       "      <td>&lt;0.0005</td>\n",
       "      <td>12.807</td>\n",
       "    </tr>\n",
       "  </tbody>\n",
       "</table><div>\n",
       "<style scoped>\n",
       "    .dataframe tbody tr th:only-of-type {\n",
       "        vertical-align: middle;\n",
       "    }\n",
       "\n",
       "    .dataframe tbody tr th {\n",
       "        vertical-align: top;\n",
       "    }\n",
       "\n",
       "    .dataframe thead th {\n",
       "        text-align: right;\n",
       "    }\n",
       "</style>\n",
       "<table border=\"1\" class=\"dataframe\">\n",
       "  <tbody>\n",
       "    <tr>\n",
       "      <th>Concordance</th>\n",
       "      <td>0.640</td>\n",
       "    </tr>\n",
       "    <tr>\n",
       "      <th>AIC</th>\n",
       "      <td>1377.833</td>\n",
       "    </tr>\n",
       "    <tr>\n",
       "      <th>log-likelihood ratio test</th>\n",
       "      <td>33.416 on 7 df</td>\n",
       "    </tr>\n",
       "    <tr>\n",
       "      <th>-log2(p) of ll-ratio test</th>\n",
       "      <td>15.462</td>\n",
       "    </tr>\n",
       "  </tbody>\n",
       "</table>\n",
       "</div>"
      ],
      "text/latex": [
       "\\begin{tabular}{llrrrrrrrrrr}\n",
       "\\toprule\n",
       "     &           &   coef &  exp(coef) &  se(coef) &  coef lower 95\\% &  coef upper 95\\% &  exp(coef) lower 95\\% &  exp(coef) upper 95\\% &      z &     p &  -log2(p) \\\\\n",
       "param & covariate &        &            &           &                 &                 &                      &                      &        &       &           \\\\\n",
       "\\midrule\n",
       "lambda\\_ & age &  0.041 &      1.042 &     0.016 &           0.009 &           0.072 &                1.009 &                1.075 &  2.544 & 0.011 &     6.512 \\\\\n",
       "     & fin &  0.272 &      1.313 &     0.138 &           0.002 &           0.543 &                1.002 &                1.720 &  1.973 & 0.049 &     4.365 \\\\\n",
       "     & mar &  0.311 &      1.365 &     0.273 &          -0.224 &           0.847 &                0.799 &                2.332 &  1.139 & 0.255 &     1.973 \\\\\n",
       "     & paro &  0.059 &      1.061 &     0.140 &          -0.215 &           0.333 &                0.807 &                1.394 &  0.421 & 0.674 &     0.570 \\\\\n",
       "     & prio & -0.066 &      0.936 &     0.021 &          -0.107 &          -0.025 &                0.899 &                0.976 & -3.143 & 0.002 &     9.224 \\\\\n",
       "     & race & -0.225 &      0.799 &     0.220 &          -0.656 &           0.207 &                0.519 &                1.230 & -1.021 & 0.307 &     1.703 \\\\\n",
       "     & wexp &  0.107 &      1.112 &     0.152 &          -0.190 &           0.404 &                0.827 &                1.497 &  0.703 & 0.482 &     1.053 \\\\\n",
       "     & Intercept &  3.990 &     54.062 &     0.419 &           3.169 &           4.812 &               23.777 &              122.921 &  9.521 & 0.000 &    68.978 \\\\\n",
       "rho\\_ & Intercept &  0.339 &      1.404 &     0.089 &           0.165 &           0.514 &                1.179 &                1.671 &  3.809 & 0.000 &    12.807 \\\\\n",
       "\\bottomrule\n",
       "\\end{tabular}\n"
      ],
      "text/plain": [
       "<lifelines.WeibullAFTFitter: fitted with 432 total observations, 318 right-censored observations>\n",
       "             duration col = 'week'\n",
       "                event col = 'arrest'\n",
       "   number of observations = 432\n",
       "number of events observed = 114\n",
       "           log-likelihood = -679.917\n",
       "         time fit was run = 2020-08-06 17:43:49 UTC\n",
       "\n",
       "---\n",
       "                    coef  exp(coef)   se(coef)   coef lower 95%   coef upper 95%  exp(coef) lower 95%  exp(coef) upper 95%\n",
       "param   covariate                                                                                                         \n",
       "lambda_ age        0.041      1.042      0.016            0.009            0.072                1.009                1.075\n",
       "        fin        0.272      1.313      0.138            0.002            0.543                1.002                1.720\n",
       "        mar        0.311      1.365      0.273           -0.224            0.847                0.799                2.332\n",
       "        paro       0.059      1.061      0.140           -0.215            0.333                0.807                1.394\n",
       "        prio      -0.066      0.936      0.021           -0.107           -0.025                0.899                0.976\n",
       "        race      -0.225      0.799      0.220           -0.656            0.207                0.519                1.230\n",
       "        wexp       0.107      1.112      0.152           -0.190            0.404                0.827                1.497\n",
       "        Intercept  3.990     54.062      0.419            3.169            4.812               23.777              122.921\n",
       "rho_    Intercept  0.339      1.404      0.089            0.165            0.514                1.179                1.671\n",
       "                       z       p   -log2(p)\n",
       "param   covariate                          \n",
       "lambda_ age        2.544   0.011      6.512\n",
       "        fin        1.973   0.049      4.365\n",
       "        mar        1.139   0.255      1.973\n",
       "        paro       0.421   0.674      0.570\n",
       "        prio      -3.143   0.002      9.224\n",
       "        race      -1.021   0.307      1.703\n",
       "        wexp       0.703   0.482      1.053\n",
       "        Intercept  9.521 <0.0005     68.978\n",
       "rho_    Intercept  3.809 <0.0005     12.807\n",
       "---\n",
       "Concordance = 0.640\n",
       "AIC = 1377.833\n",
       "log-likelihood ratio test = 33.416 on 7 df\n",
       "-log2(p) of ll-ratio test = 15.462"
      ]
     },
     "metadata": {},
     "output_type": "display_data"
    }
   ],
   "source": [
    "aft = WeibullAFTFitter()\n",
    "aft.fit(df, duration_col='week', event_col='arrest')\n",
    "\n",
    "aft.print_summary(3) "
   ]
  },
  {
   "cell_type": "code",
   "execution_count": 7,
   "metadata": {},
   "outputs": [
    {
     "data": {
      "image/png": "[encoded data removed]",
      "text/plain": [
       "<Figure size 432x288 with 1 Axes>"
      ]
     },
     "metadata": {
      "needs_background": "light"
     },
     "output_type": "display_data"
    }
   ],
   "source": [
    "aft.plot();"
   ]
  },
  {
   "cell_type": "code",
   "execution_count": 9,
   "metadata": {},
   "outputs": [
    {
     "data": {
      "image/png": "[encoded data removed]",
      "text/plain": [
       "<Figure size 720x288 with 2 Axes>"
      ]
     },
     "metadata": {
      "needs_background": "light"
     },
     "output_type": "display_data"
    }
   ],
   "source": [
    "fig, ax = plt.subplots(nrows=1, ncols=2, figsize=(10, 4))\n",
    "\n",
    "times = np.arange(0, 100)\n",
    "wft_model_rho = WeibullAFTFitter().fit(df, 'week', 'arrest', timeline=times)\n",
    "wft_model_rho.plot_partial_effects_on_outcome('prio', range(0, 16, 3), cmap='coolwarm', ax=ax[0])\n",
    "ax[0].set_title(\"Modelling rho_\")\n",
    "\n",
    "wft_not_model_rho = WeibullAFTFitter().fit(df, 'week', 'arrest', timeline=times)\n",
    "wft_not_model_rho.plot_partial_effects_on_outcome('prio', range(0, 16, 3), cmap='coolwarm', ax=ax[1])\n",
    "ax[1].set_title(\"Not modelling rho_\");"
   ]
  },
  {
   "cell_type": "markdown",
   "metadata": {},
   "source": [
    "## Credits & Links"
   ]
  },
  {
   "cell_type": "markdown",
   "metadata": {},
   "source": [
    "https://lifelines.readthedocs.io/en/latest/Survival%20Regression.html?highlight=aft#the-weibull-aft-model"
   ]
  }
 ],
 "metadata": {
  "kernelspec": {
   "display_name": "Python 3",
   "language": "python",
   "name": "python3"
  },
  "language_info": {
   "codemirror_mode": {
    "name": "ipython",
    "version": 3
   },
   "file_extension": ".py",
   "mimetype": "text/x-python",
   "name": "python",
   "nbconvert_exporter": "python",
   "pygments_lexer": "ipython3",
   "version": "3.8.6"
  }
 },
 "nbformat": 4,
 "nbformat_minor": 4
}
