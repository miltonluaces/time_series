{
 "cells": [
  {
   "cell_type": "markdown",
   "metadata": {},
   "source": [
    "# Time series utilities"
   ]
  },
  {
   "cell_type": "markdown",
   "metadata": {},
   "source": [
    "## Imports"
   ]
  },
  {
   "cell_type": "code",
   "execution_count": null,
   "metadata": {},
   "outputs": [],
   "source": [
    "import numpy as np\n",
    "import pandas as pd\n",
    "import matplotlib.pyplot as plt"
   ]
  },
  {
   "cell_type": "markdown",
   "metadata": {},
   "source": [
    "## Testing data"
   ]
  },
  {
   "cell_type": "code",
   "execution_count": null,
   "metadata": {},
   "outputs": [],
   "source": [
    "dt1 = [123, 112, 118, 104, 105, 107, 114, 119, 123, 127, 132, 144]\n",
    "dt2 = [145, 157, 162, 170, 173]\n",
    "dt3 = [148, 152, 163, 170, 174]\n",
    "\n",
    "idx = pd.DatetimeIndex(['2020-01-01', '2020-01-02','2020-01-03', '2020-01-04', '2020-01-05', '2020-01-06', '2020-01-07', '2020-01-08', '2020-01-09', '2020-01-10', '2020-01-11', '2020-01-12'])\n",
    "ts1 = pd.Series(data = dt1, index=idx)\n",
    "idxs = [0, 4, 6, 7, 12, 15, 18]\n",
    "ts2 = pd.Series(data=dt1, index=range(len(dt1)))\n",
    "ts3 = pd.Series(data=dt2, index=range(len(dt2)))\n",
    "\n",
    "df = pd.DataFrame({'ts1' : ts2*2, 'ts2' : ts2})\n",
    "df"
   ]
  },
  {
   "cell_type": "markdown",
   "metadata": {},
   "source": [
    "## Transform an asc list of indexes in a binary array"
   ]
  },
  {
   "cell_type": "code",
   "execution_count": null,
   "metadata": {},
   "outputs": [],
   "source": [
    "def idx2bin_array(idxs, last=0):\n",
    "    if(last==0): last = idxs[-1]\n",
    "    binArray = [ 1 if i in idxs else 0 for i in range(0, last+1) ]\n",
    "    return(binArray)"
   ]
  },
  {
   "cell_type": "code",
   "execution_count": null,
   "metadata": {},
   "outputs": [],
   "source": [
    "ba = idx2bin_array(idxs); ba"
   ]
  },
  {
   "cell_type": "markdown",
   "metadata": {},
   "source": [
    "## Time series to Dataframe with column of indexes"
   ]
  },
  {
   "cell_type": "code",
   "execution_count": null,
   "metadata": {},
   "outputs": [],
   "source": [
    "def ts2df_idxed(ts):\n",
    "      idx = np.arange(0, len(ts))\n",
    "      df = pd.DataFrame(idx,ts)\n",
    "      df.set_index(idx)\n",
    "      return df"
   ]
  },
  {
   "cell_type": "code",
   "execution_count": null,
   "metadata": {},
   "outputs": [],
   "source": [
    "df = ts2df_idxed(ts1); df"
   ]
  },
  {
   "cell_type": "markdown",
   "metadata": {},
   "source": [
    "## Padding"
   ]
  },
  {
   "cell_type": "code",
   "execution_count": 228,
   "metadata": {},
   "outputs": [],
   "source": [
    "def pad(ts, n, left=True, fillzeros=True):\n",
    "    idxs = range(-n, ts.shape[0])\n",
    "    if left:\n",
    "        idxs = range(ts.shape[0] + n)\n",
    "    ts_padded = ts.reindex(idxs)\n",
    "    if fillzeros:\n",
    "        pd.Series.fillna(ts_padded, 0, inplace=True)\n",
    "    return ts_padded"
   ]
  },
  {
   "cell_type": "code",
   "execution_count": null,
   "metadata": {},
   "outputs": [],
   "source": [
    "ts2_pr = pad(ts2, 2, False)     \n",
    "ts2_pl = pad(ts2, 2, True)     \n",
    "print('Original\\n')\n",
    "print(ts2)\n",
    "print('Padded right\\n')\n",
    "print(ts2_pr)\n",
    "print('Padded left\\n')\n",
    "print(ts2_pl)"
   ]
  },
  {
   "cell_type": "code",
   "execution_count": null,
   "metadata": {},
   "outputs": [],
   "source": [
    "def add_value(ts, val):\n",
    "    idxs = range(ts.shape[0]+1)\n",
    "    ts = ts.reindex(idxs) \n",
    "    ts[len(ts_train)-1] = val\n",
    "    return ts"
   ]
  },
  {
   "cell_type": "code",
   "execution_count": null,
   "metadata": {},
   "outputs": [],
   "source": []
  }
 ],
 "metadata": {
  "kernelspec": {
   "display_name": "Python 3",
   "language": "python",
   "name": "python3"
  },
  "language_info": {
   "codemirror_mode": {
    "name": "ipython",
    "version": 3
   },
   "file_extension": ".py",
   "mimetype": "text/x-python",
   "name": "python",
   "nbconvert_exporter": "python",
   "pygments_lexer": "ipython3",
   "version": "3.8.1"
  }
 },
 "nbformat": 4,
 "nbformat_minor": 4
}
