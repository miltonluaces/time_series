{
 "cells": [
  {
   "cell_type": "code",
   "execution_count": null,
   "metadata": {},
   "outputs": [],
   "source": [
    "from scipy import integrate\n",
    "from TSAnalysis.Splines import GetIPSeries\n",
    "from TSAnalysis.Splines import GetInflectionPointIdxs\n",
    "  \n",
    "# Integral of Ts, integral of the abs error and rel abs error \n",
    "def TsIntegError(ts1, ts2):\n",
    "    err = abs(ts1 - ts2)\n",
    "    integTs = integrate.simps(ts1)\n",
    "    integErr = integrate.simps(err)\n",
    "    relErr = integErr/integTs\n",
    "    return(integTs, integErr, relErr)\n",
    "\n",
    "# Relative integral error : i.e./ n points for ts and interpolation\n",
    "def TsIntegRelPointError(ts, points):\n",
    "    ips, nPs = GetIPSeries(ts, points)\n",
    "    integTs, integErr, relErr = TsIntegError(ts, ips)\n",
    "    integIps = integTs - integErr\n",
    "    irpeTs = integTs\n",
    "    #irpeIps = integIps * nPs/len(ts)\n",
    "    irpeIps = integIps\n",
    "    return(irpeTs, irpeIps)\n",
    "    \n",
    "def OptimIrpe(ts, decRate=0.999, trace=False):\n",
    "    points = GetInflectionPointIdxs(ts)\n",
    "    irpe1, irpe2 = TsIntegRelPointError(ts, points)\n",
    "    #if(trace):\n",
    "        #print('irpe1 = ', '{0:.2f}'.format(irpe1))\n",
    "        #print('irpe2 = ', '{0:.2f}'.format(irpe2))\n",
    "    bestIrpe = irpe2\n",
    "    bestIdx = 0\n",
    "    end=False\n",
    "    while(not end):\n",
    "        prevBestIrpe = bestIrpe\n",
    "        end=True\n",
    "        for i in range(len(points)):\n",
    "            val = points[i]\n",
    "            if(val!=0):\n",
    "                points[i]=0\n",
    "                irpe1, irpe2 = TsIntegRelPointError(ts, points)\n",
    "                if(irpe2 > bestIrpe * decRate): \n",
    "                    bestIrpe = irpe2\n",
    "                    bestIdx = i\n",
    "                    end=False\n",
    "                points[i]=val\n",
    "            \n",
    "        if(trace):\n",
    "            print(\"BestIdx  : \", bestIdx)\n",
    "            print(\"BestIrpe : \", '{0:.2f}'.format(bestIrpe))\n",
    "        points[bestIdx]=0\n",
    "    return(points)           \n",
    "\n",
    "\n",
    "\n"
   ]
  }
 ],
 "metadata": {
  "kernelspec": {
   "display_name": "Python 3",
   "language": "python",
   "name": "python3"
  },
  "language_info": {
   "codemirror_mode": {
    "name": "ipython",
    "version": 3
   },
   "file_extension": ".py",
   "mimetype": "text/x-python",
   "name": "python",
   "nbconvert_exporter": "python",
   "pygments_lexer": "ipython3",
   "version": "3.8.1"
  }
 },
 "nbformat": 4,
 "nbformat_minor": 4
}
