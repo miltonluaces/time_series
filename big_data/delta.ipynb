{
 "cells": [
  {
   "cell_type": "code",
   "execution_count": 1,
   "metadata": {},
   "outputs": [],
   "source": [
    "import sys\n",
    "from utilities.std_imports import *\n",
    "from pyspark.sql.window import Window\n",
    "import pyspark.sql.functions as func\n",
    "from pyspark import SparkContext, SparkConf\n",
    "from pyspark.sql import SQLContext\n",
    "from pyspark.sql import Row"
   ]
  },
  {
   "cell_type": "code",
   "execution_count": 7,
   "metadata": {},
   "outputs": [],
   "source": [
    "spark = SparkContext(\"local\", \"sqlContext\")\n",
    "sql = SQLContext(spark)"
   ]
  },
  {
   "cell_type": "code",
   "execution_count": 8,
   "metadata": {},
   "outputs": [
    {
     "name": "stdout",
     "output_type": "stream",
     "text": [
      "+----------+----------+-------+\n",
      "|   product|  category|revenue|\n",
      "+----------+----------+-------+\n",
      "|      Thin|Cell Phone|   6000|\n",
      "|    Normal|    Tablet|   1500|\n",
      "|      Mini|    Tablet|   5500|\n",
      "|Ultra Thin|Cell Phone|   5000|\n",
      "| Very Thin|Cell Phone|   6000|\n",
      "|       Big|    Tablet|   2500|\n",
      "|  Bendable|Cell Phone|   3000|\n",
      "|  Foldable|Cell Phone|   3000|\n",
      "|       Pro|    Tablet|   4500|\n",
      "|      Pro2|    Tablet|   6500|\n",
      "+----------+----------+-------+\n",
      "\n"
     ]
    }
   ],
   "source": [
    "data = [('Thin', 'Cell Phone', 6000), ('Normal', 'Tablet', 1500), ('Mini', 'Tablet' , 5500), ('Ultra Thin', 'Cell Phone', 5000), ('Very Thin', 'Cell Phone', 6000), ('Big', 'Tablet', 2500), ('Bendable', 'Cell Phone', 3000), ('Foldable', 'Cell Phone', 3000), ('Pro', 'Tablet', 4500),  ('Pro2', 'Tablet', 6500)]\n",
    "df = sql.createDataFrame(data, ['product', 'category', 'revenue'])\n",
    "df.show()"
   ]
  },
  {
   "cell_type": "code",
   "execution_count": 9,
   "metadata": {},
   "outputs": [],
   "source": [
    "sql.registerDataFrameAsTable(df, 'productRevenue')"
   ]
  },
  {
   "cell_type": "code",
   "execution_count": 12,
   "metadata": {},
   "outputs": [
    {
     "name": "stdout",
     "output_type": "stream",
     "text": [
      "+----------+----------+-------+----+\n",
      "|   product|  category|revenue|diff|\n",
      "+----------+----------+-------+----+\n",
      "|      Pro2|    Tablet|   6500|   0|\n",
      "|      Mini|    Tablet|   5500|1000|\n",
      "|       Pro|    Tablet|   4500|2000|\n",
      "|       Big|    Tablet|   2500|4000|\n",
      "|    Normal|    Tablet|   1500|5000|\n",
      "|      Thin|Cell Phone|   6000|   0|\n",
      "| Very Thin|Cell Phone|   6000|   0|\n",
      "|Ultra Thin|Cell Phone|   5000|1000|\n",
      "|  Bendable|Cell Phone|   3000|3000|\n",
      "|  Foldable|Cell Phone|   3000|3000|\n",
      "+----------+----------+-------+----+\n",
      "\n"
     ]
    }
   ],
   "source": [
    "spec = Window.partitionBy(df['category']).orderBy(df['revenue'].desc()).rangeBetween(-sys.maxsize, sys.maxsize)\n",
    "df_pr = sql.table(\"productRevenue\")\n",
    "diff = (func.max(df_pr['revenue']).over(spec) - df_pr['revenue'])\n",
    "df_sel = df_pr.select(df_pr['product'], df_pr['category'], df_pr['revenue'], diff.alias('diff'))\n",
    "df_sel.show()"
   ]
  },
  {
   "cell_type": "code",
   "execution_count": 6,
   "metadata": {},
   "outputs": [],
   "source": [
    "spark.stop()"
   ]
  }
 ],
 "metadata": {
  "kernelspec": {
   "display_name": "Python 3",
   "language": "python",
   "name": "python3"
  },
  "language_info": {
   "codemirror_mode": {
    "name": "ipython",
    "version": 3
   },
   "file_extension": ".py",
   "mimetype": "text/x-python",
   "name": "python",
   "nbconvert_exporter": "python",
   "pygments_lexer": "ipython3",
   "version": "3.8.6"
  }
 },
 "nbformat": 4,
 "nbformat_minor": 4
}
