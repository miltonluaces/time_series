{
 "cells": [
  {
   "cell_type": "markdown",
   "metadata": {},
   "source": [
    "# Recommendation system"
   ]
  },
  {
   "cell_type": "code",
   "execution_count": 1,
   "metadata": {},
   "outputs": [],
   "source": [
    "from pyspark import SparkContext, SparkConf\n",
    "from pyspark.sql import SQLContext\n",
    "from pyspark.ml.evaluation import RegressionEvaluator\n",
    "from pyspark.ml.recommendation import ALS\n",
    "from pyspark.sql import Row"
   ]
  },
  {
   "cell_type": "code",
   "execution_count": 2,
   "metadata": {},
   "outputs": [],
   "source": [
    "spark = SparkContext(\"local\", \"sqlContext\")\n",
    "sql = SQLContext(spark)"
   ]
  },
  {
   "cell_type": "markdown",
   "metadata": {},
   "source": [
    "#### Load data"
   ]
  },
  {
   "cell_type": "code",
   "execution_count": 3,
   "metadata": {},
   "outputs": [
    {
     "data": {
      "text/plain": [
       "[Row(value='0::2::3::1424380312'),\n",
       " Row(value='0::3::1::1424380312'),\n",
       " Row(value='0::5::2::1424380312'),\n",
       " Row(value='0::9::4::1424380312'),\n",
       " Row(value='0::11::1::1424380312'),\n",
       " Row(value='0::12::2::1424380312'),\n",
       " Row(value='0::15::1::1424380312'),\n",
       " Row(value='0::17::1::1424380312'),\n",
       " Row(value='0::19::1::1424380312'),\n",
       " Row(value='0::21::1::1424380312')]"
      ]
     },
     "execution_count": 3,
     "metadata": {},
     "output_type": "execute_result"
    }
   ],
   "source": [
    "path = 'D:/ProgramFiles/Spark/spark-3.0.0-bin-hadoop2.7/data/mllib/'\n",
    "lines = sql.read.text(path + \"als/sample_movielens_ratings.txt\").rdd\n",
    "lines.take(10)"
   ]
  },
  {
   "cell_type": "markdown",
   "metadata": {},
   "source": [
    "#### Data preparation"
   ]
  },
  {
   "cell_type": "code",
   "execution_count": 9,
   "metadata": {},
   "outputs": [],
   "source": [
    "parts = lines.map(lambda row: row.value.split(\"::\"))\n",
    "rdd = parts.map(lambda p: Row(userId=int(p[0]), movieId=int(p[1]), rating=float(p[2]), timestamp=float(p[3])))\n",
    "df = sql.createDataFrame(rdd)\n",
    "(df_train, df_test) = df.randomSplit([0.8, 0.2])"
   ]
  },
  {
   "cell_type": "markdown",
   "metadata": {},
   "source": [
    "#### Build the model"
   ]
  },
  {
   "cell_type": "code",
   "execution_count": 10,
   "metadata": {},
   "outputs": [],
   "source": [
    "als = ALS(maxIter=5, regParam=0.01, userCol=\"userId\", itemCol=\"movieId\", ratingCol=\"rating\", coldStartStrategy=\"drop\")\n",
    "als_fit = als.fit(df_train)"
   ]
  },
  {
   "cell_type": "markdown",
   "metadata": {},
   "source": [
    "#### Validation"
   ]
  },
  {
   "cell_type": "code",
   "execution_count": 11,
   "metadata": {},
   "outputs": [
    {
     "name": "stdout",
     "output_type": "stream",
     "text": [
      "Root-mean-square error = 1.8518172765304592\n"
     ]
    }
   ],
   "source": [
    "pred = als_fit.transform(df_test)\n",
    "eval = RegressionEvaluator(metricName=\"rmse\", labelCol=\"rating\", predictionCol=\"prediction\")\n",
    "rmse = eval.evaluate(pred)\n",
    "print(\"Root-mean-square error = \" + str(rmse))"
   ]
  },
  {
   "cell_type": "markdown",
   "metadata": {},
   "source": [
    "#### Generate recommendations"
   ]
  },
  {
   "cell_type": "code",
   "execution_count": 18,
   "metadata": {},
   "outputs": [
    {
     "name": "stdout",
     "output_type": "stream",
     "text": [
      "Top 10 movie recommendations for each user\n",
      "\n",
      "+------+--------------------+\n",
      "|userId|     recommendations|\n",
      "+------+--------------------+\n",
      "|    28|[[46, 6.4157724],...|\n",
      "|    26|[[18, 6.1649218],...|\n",
      "|    27|[[19, 3.1087563],...|\n",
      "|    12|[[46, 6.6188993],...|\n",
      "|    22|[[22, 5.2609615],...|\n",
      "|     1|[[18, 5.778796], ...|\n",
      "|    13|[[93, 3.847912], ...|\n",
      "|     6|[[92, 4.2404537],...|\n",
      "|    16|[[32, 6.154178], ...|\n",
      "|     3|[[51, 4.843397], ...|\n",
      "|    20|[[22, 4.49481], [...|\n",
      "|     5|[[18, 5.886023], ...|\n",
      "|    19|[[90, 4.1057715],...|\n",
      "|    15|[[32, 5.0378904],...|\n",
      "|    17|[[18, 5.42172], [...|\n",
      "|     9|[[28, 6.0178432],...|\n",
      "|     4|[[74, 4.4687047],...|\n",
      "|     8|[[29, 5.2050834],...|\n",
      "|    23|[[90, 6.024208], ...|\n",
      "|     7|[[52, 5.427095], ...|\n",
      "+------+--------------------+\n",
      "only showing top 20 rows\n",
      "\n",
      "Top 10 user recommendations for each movie\n",
      "\n",
      "+-------+--------------------+\n",
      "|movieId|     recommendations|\n",
      "+-------+--------------------+\n",
      "|     31|[[16, 5.0786905],...|\n",
      "|     85|[[7, 4.7242293], ...|\n",
      "|     65|[[23, 4.694662], ...|\n",
      "|     53|[[21, 4.9992356],...|\n",
      "|     78|[[14, 1.3149126],...|\n",
      "|     34|[[2, 4.006602], [...|\n",
      "|     81|[[28, 4.9623575],...|\n",
      "|     28|[[9, 6.0178432], ...|\n",
      "|     76|[[25, 7.1454706],...|\n",
      "|     26|[[28, 4.870287], ...|\n",
      "|     27|[[17, 4.8993144],...|\n",
      "|     44|[[18, 3.7693725],...|\n",
      "|     12|[[28, 4.6675663],...|\n",
      "|     91|[[28, 4.2229276],...|\n",
      "|     22|[[22, 5.2609615],...|\n",
      "|     93|[[2, 4.9690013], ...|\n",
      "|     47|[[25, 3.9048905],...|\n",
      "|      1|[[28, 4.298853], ...|\n",
      "|     52|[[7, 5.427095], [...|\n",
      "|     13|[[11, 4.0104227],...|\n",
      "+-------+--------------------+\n",
      "only showing top 20 rows\n",
      "\n",
      "Top 10 movie recommendations for a specified set of users\n",
      "\n",
      "+------+--------------------+\n",
      "|userId|     recommendations|\n",
      "+------+--------------------+\n",
      "|    26|[[18, 6.1649218],...|\n",
      "|    19|[[90, 4.1057715],...|\n",
      "|    29|[[46, 5.1322274],...|\n",
      "+------+--------------------+\n",
      "\n",
      "Top 10 movie user recommendations for a specified set of movies\n",
      "\n",
      "+-------+--------------------+\n",
      "|movieId|     recommendations|\n",
      "+-------+--------------------+\n",
      "|     65|[[23, 4.694662], ...|\n",
      "|     26|[[28, 4.870287], ...|\n",
      "|     29|[[8, 5.2050834], ...|\n",
      "+-------+--------------------+\n",
      "\n"
     ]
    }
   ],
   "source": [
    "print('Top 10 movie recommendations for each user\\n')\n",
    "userRecs = als_fit.recommendForAllUsers(10)\n",
    "userRecs.show()\n",
    "\n",
    "print('Top 10 user recommendations for each movie\\n')\n",
    "movieRecs = als_fit.recommendForAllItems(10)\n",
    "movieRecs.show()\n",
    "\n",
    "print('Top 10 movie recommendations for a specified set of users\\n')\n",
    "users = df.select(als.getUserCol()).distinct().limit(3)\n",
    "userSubsetRecs = als_fit.recommendForUserSubset(users, 10)\n",
    "userSubsetRecs.show()\n",
    "\n",
    "print('Top 10 movie user recommendations for a specified set of movies\\n')\n",
    "movies = df.select(als.getItemCol()).distinct().limit(3)\n",
    "movieSubsetRecs = als_fit.recommendForItemSubset(movies, 10)\n",
    "movieSubsetRecs.show()"
   ]
  },
  {
   "cell_type": "markdown",
   "metadata": {},
   "source": [
    "## Credits & Links"
   ]
  },
  {
   "cell_type": "markdown",
   "metadata": {},
   "source": [
    "http://spark.apache.org/docs/latest/ml-collaborative-filtering.html"
   ]
  }
 ],
 "metadata": {
  "kernelspec": {
   "display_name": "Python 3.8.1 64-bit",
   "language": "python",
   "name": "python38164bitc33de82c9da04edea88eb124459bf44a"
  },
  "language_info": {
   "codemirror_mode": {
    "name": "ipython",
    "version": 3
   },
   "file_extension": ".py",
   "mimetype": "text/x-python",
   "name": "python",
   "nbconvert_exporter": "python",
   "pygments_lexer": "ipython3",
   "version": "3.8.1"
  }
 },
 "nbformat": 4,
 "nbformat_minor": 4
}
