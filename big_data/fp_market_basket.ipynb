{
 "cells": [
  {
   "cell_type": "markdown",
   "metadata": {},
   "source": [
    "# Market Basket Analysis with Frequent Pattern Algorithms"
   ]
  },
  {
   "cell_type": "code",
   "execution_count": 64,
   "metadata": {},
   "outputs": [],
   "source": [
    "from utilities.std_imports import *\n",
    "from pyspark import SparkContext, SparkConf\n",
    "from pyspark.sql import SQLContext\n",
    "from pyspark.sql.functions import collect_set, col, count\n",
    "from pyspark.ml import fpm"
   ]
  },
  {
   "cell_type": "code",
   "execution_count": 6,
   "metadata": {},
   "outputs": [],
   "source": [
    "spark = SparkContext(\"local\", \"sqlContext\")\n",
    "sql = SQLContext(spark)"
   ]
  },
  {
   "cell_type": "code",
   "execution_count": 8,
   "metadata": {},
   "outputs": [],
   "source": [
    "path = 'D:/data/csv/market_basket/'\n",
    "aisles = sql.read.csv(path + \"aisles.csv\", header=True, inferSchema=True)\n",
    "departments = sql.read.csv(path + \"departments.csv\", header=True, inferSchema=True)\n",
    "order_products_prior = sql.read.csv(path + \"order_products__prior.csv\", header=True, inferSchema=True)\n",
    "order_products_train = sql.read.csv(path + \"order_products__train.csv\", header=True, inferSchema=True)\n",
    "orders = sql.read.csv(path + \"orders.csv\", header=True, inferSchema=True)\n",
    "products = sql.read.csv(path + \"products.csv\", header=True, inferSchema=True)"
   ]
  },
  {
   "cell_type": "markdown",
   "metadata": {},
   "source": [
    "#### Create Temporary Tables to work using sql like commands"
   ]
  },
  {
   "cell_type": "code",
   "execution_count": 9,
   "metadata": {},
   "outputs": [],
   "source": [
    "aisles.createOrReplaceTempView(\"aisles\")\n",
    "departments.createOrReplaceTempView(\"departments\")\n",
    "order_products_prior.createOrReplaceTempView(\"order_products_prior\")\n",
    "order_products_train.createOrReplaceTempView(\"order_products_train\")\n",
    "orders.createOrReplaceTempView(\"orders\")\n",
    "products.createOrReplaceTempView(\"products\")"
   ]
  },
  {
   "cell_type": "markdown",
   "metadata": {},
   "source": [
    "## Data analysis : queries"
   ]
  },
  {
   "cell_type": "markdown",
   "metadata": {},
   "source": [
    "#### Top 5 orders in the orders dataframe"
   ]
  },
  {
   "cell_type": "code",
   "execution_count": 10,
   "metadata": {},
   "outputs": [
    {
     "name": "stdout",
     "output_type": "stream",
     "text": [
      "+--------+-------+--------+------------+---------+-----------------+----------------------+\n",
      "|order_id|user_id|eval_set|order_number|order_dow|order_hour_of_day|days_since_prior_order|\n",
      "+--------+-------+--------+------------+---------+-----------------+----------------------+\n",
      "| 2539329|      1|   prior|           1|        2|                8|                  null|\n",
      "| 2398795|      1|   prior|           2|        3|                7|                  15.0|\n",
      "|  473747|      1|   prior|           3|        3|               12|                  21.0|\n",
      "| 2254736|      1|   prior|           4|        4|                7|                  29.0|\n",
      "|  431534|      1|   prior|           5|        4|               15|                  28.0|\n",
      "+--------+-------+--------+------------+---------+-----------------+----------------------+\n",
      "only showing top 5 rows\n",
      "\n"
     ]
    }
   ],
   "source": [
    "orders.show(n=5)"
   ]
  },
  {
   "cell_type": "code",
   "execution_count": 13,
   "metadata": {},
   "outputs": [
    {
     "name": "stdout",
     "output_type": "stream",
     "text": [
      "+----------+--------------------+--------+-------------+\n",
      "|product_id|        product_name|aisle_id|department_id|\n",
      "+----------+--------------------+--------+-------------+\n",
      "|         1|Chocolate Sandwic...|      61|           19|\n",
      "|         2|    All-Seasons Salt|     104|           13|\n",
      "|         3|Robust Golden Uns...|      94|            7|\n",
      "|         4|Smart Ones Classi...|      38|            1|\n",
      "|         5|Green Chile Anyti...|       5|           13|\n",
      "+----------+--------------------+--------+-------------+\n",
      "only showing top 5 rows\n",
      "\n",
      "+--------+----------+-----------------+---------+\n",
      "|order_id|product_id|add_to_cart_order|reordered|\n",
      "+--------+----------+-----------------+---------+\n",
      "|       1|     49302|                1|        1|\n",
      "|       1|     11109|                2|        1|\n",
      "|       1|     10246|                3|        0|\n",
      "|       1|     49683|                4|        0|\n",
      "|       1|     43633|                5|        1|\n",
      "+--------+----------+-----------------+---------+\n",
      "only showing top 5 rows\n",
      "\n",
      "+--------+----------+-----------------+---------+\n",
      "|order_id|product_id|add_to_cart_order|reordered|\n",
      "+--------+----------+-----------------+---------+\n",
      "|       2|     33120|                1|        1|\n",
      "|       2|     28985|                2|        1|\n",
      "|       2|      9327|                3|        0|\n",
      "|       2|     45918|                4|        1|\n",
      "|       2|     30035|                5|        0|\n",
      "+--------+----------+-----------------+---------+\n",
      "only showing top 5 rows\n",
      "\n",
      "+-------------+----------+\n",
      "|department_id|department|\n",
      "+-------------+----------+\n",
      "|            1|    frozen|\n",
      "|            2|     other|\n",
      "|            3|    bakery|\n",
      "|            4|   produce|\n",
      "|            5|   alcohol|\n",
      "+-------------+----------+\n",
      "only showing top 5 rows\n",
      "\n",
      "+--------+--------------------+\n",
      "|aisle_id|               aisle|\n",
      "+--------+--------------------+\n",
      "|       1|prepared soups sa...|\n",
      "|       2|   specialty cheeses|\n",
      "|       3| energy granola bars|\n",
      "|       4|       instant foods|\n",
      "|       5|marinades meat pr...|\n",
      "+--------+--------------------+\n",
      "only showing top 5 rows\n",
      "\n"
     ]
    }
   ],
   "source": [
    "products.show(n=5)\n",
    "order_products_train.show(n=5)\n",
    "order_products_prior.show(n=5)\n",
    "departments.show(n=5)\n",
    "aisles.show(n=5)"
   ]
  },
  {
   "cell_type": "code",
   "execution_count": 34,
   "metadata": {},
   "outputs": [
    {
     "name": "stdout",
     "output_type": "stream",
     "text": [
      "+------------+-----------+\n",
      "|total_orders|day_of_week|\n",
      "+------------+-----------+\n",
      "|      600905|     Sunday|\n",
      "|      587478|     Monday|\n",
      "|      467260|    Tuesday|\n",
      "|      453368|     Friday|\n",
      "|      448761|   Saturday|\n",
      "|      436972|  Wednesday|\n",
      "|      426339|   Thursday|\n",
      "+------------+-----------+\n",
      "\n"
     ]
    }
   ],
   "source": [
    "query = sql.sql(\"select count(order_id) as total_orders, (case when order_dow = '0' then 'Sunday' when order_dow = '1' then 'Monday' when order_dow = '2' then 'Tuesday' when order_dow = '3' then 'Wednesday' when order_dow = '4' then 'Thursday' when order_dow = '5' then 'Friday'  when order_dow = '6' then 'Saturday' end) as day_of_week from orders group by order_dow order by total_orders desc\") \n",
    "query.show()"
   ]
  },
  {
   "cell_type": "code",
   "execution_count": 33,
   "metadata": {},
   "outputs": [
    {
     "name": "stdout",
     "output_type": "stream",
     "text": [
      "+------------+----+\n",
      "|total_orders|hour|\n",
      "+------------+----+\n",
      "|       22758|   0|\n",
      "|       12398|   1|\n",
      "|        7539|   2|\n",
      "|        5474|   3|\n",
      "|        5527|   4|\n",
      "|        9569|   5|\n",
      "|       30529|   6|\n",
      "|       91868|   7|\n",
      "|      178201|   8|\n",
      "|      257812|   9|\n",
      "|      288418|  10|\n",
      "|      284728|  11|\n",
      "|      272841|  12|\n",
      "|      277999|  13|\n",
      "|      283042|  14|\n",
      "|      283639|  15|\n",
      "|      272553|  16|\n",
      "|      228795|  17|\n",
      "|      182912|  18|\n",
      "|      140569|  19|\n",
      "+------------+----+\n",
      "only showing top 20 rows\n",
      "\n"
     ]
    }
   ],
   "source": [
    "query = sql.sql(\"select count(order_id) as total_orders, order_hour_of_day as hour from orders group by order_hour_of_day order by order_hour_of_day\")\n",
    "query.show()"
   ]
  },
  {
   "cell_type": "code",
   "execution_count": 57,
   "metadata": {},
   "outputs": [
    {
     "name": "stdout",
     "output_type": "stream",
     "text": [
      "+------+--------------------+\n",
      "|orders|     popular_product|\n",
      "+------+--------------------+\n",
      "|472565|              Banana|\n",
      "|379450|Bag of Organic Ba...|\n",
      "|264683|Organic Strawberries|\n",
      "|241921|Organic Baby Spinach|\n",
      "|213584|Organic Hass Avocado|\n",
      "|176815|     Organic Avocado|\n",
      "|152657|         Large Lemon|\n",
      "|142951|        Strawberries|\n",
      "|140627|               Limes|\n",
      "|137905|  Organic Whole Milk|\n",
      "+------+--------------------+\n",
      "\n"
     ]
    }
   ],
   "source": [
    "query = sql.sql(\"select count(opp.order_id) as orders, p.product_name as popular_product from order_products_prior opp, products p where p.product_id = opp.product_id group by popular_product order by orders desc limit 10\")\n",
    "query.show()"
   ]
  },
  {
   "cell_type": "markdown",
   "metadata": {},
   "source": [
    "## Market basket analysis with FPG"
   ]
  },
  {
   "cell_type": "code",
   "execution_count": 61,
   "metadata": {},
   "outputs": [
    {
     "name": "stdout",
     "output_type": "stream",
     "text": [
      "+--------------------+--------+\n",
      "|        product_name|order_id|\n",
      "+--------------------+--------+\n",
      "|    Bulgarian Yogurt|       1|\n",
      "|Organic 4% Milk F...|       1|\n",
      "|Organic Celery He...|       1|\n",
      "|      Cucumber Kirby|       1|\n",
      "|Lightly Smoked Sa...|       1|\n",
      "+--------------------+--------+\n",
      "only showing top 5 rows\n",
      "\n",
      "+--------+--------------------+\n",
      "|order_id|               items|\n",
      "+--------+--------------------+\n",
      "|    1342|[Raw Shrimp, Seed...|\n",
      "|    1591|[Cracked Wheat, S...|\n",
      "|    4519|[Beet Apple Carro...|\n",
      "|    4935|             [Vodka]|\n",
      "|    6357|[Globe Eggplant, ...|\n",
      "+--------+--------------------+\n",
      "only showing top 5 rows\n",
      "\n",
      "(131209, 2)\n"
     ]
    }
   ],
   "source": [
    "rawData = sql.sql(\"select p.product_name, o.order_id from products p inner join order_products_train o where o.product_id = p.product_id\")\n",
    "baskets = rawData.groupBy('order_id').agg(collect_set('product_name').alias('items'))\n",
    "baskets.createOrReplaceTempView('baskets')\n",
    "rawData.show(5)\n",
    "baskets.show(5)\n",
    "print((baskets.count(), len(baskets.columns)))"
   ]
  },
  {
   "cell_type": "code",
   "execution_count": 65,
   "metadata": {},
   "outputs": [],
   "source": [
    "baskets_ds = sql.sql(\"select items from baskets\").toDF(\"items\")\n",
    "\n",
    "fpg = fpm.FPGrowth(itemsCol=\"items\", minSupport=0.001, minConfidence=0)\n",
    "fpg_fit = fpg.fit(baskets_ds)"
   ]
  },
  {
   "cell_type": "code",
   "execution_count": 66,
   "metadata": {},
   "outputs": [],
   "source": [
    "mostPopularItemInABasket = fpg_fit.freqItemsets\n",
    "mostPopularItemInABasket.createOrReplaceTempView(\"mostPopularItemInABasket\")"
   ]
  },
  {
   "cell_type": "code",
   "execution_count": 67,
   "metadata": {},
   "outputs": [
    {
     "name": "stdout",
     "output_type": "stream",
     "text": [
      "+--------------------+----+\n",
      "|               items|freq|\n",
      "+--------------------+----+\n",
      "|[Organic Hass Avo...| 710|\n",
      "|[Organic Raspberr...| 649|\n",
      "|[Organic Baby Spi...| 587|\n",
      "|[Organic Raspberr...| 531|\n",
      "|[Organic Hass Avo...| 497|\n",
      "|[Organic Avocado,...| 484|\n",
      "|[Organic Avocado,...| 477|\n",
      "|[Limes, Large Lem...| 452|\n",
      "|[Organic Cucumber...| 424|\n",
      "|[Limes, Organic A...| 389|\n",
      "|[Organic Raspberr...| 381|\n",
      "|[Organic Avocado,...| 379|\n",
      "|[Organic Baby Spi...| 376|\n",
      "|[Organic Blueberr...| 374|\n",
      "|[Large Lemon, Org...| 371|\n",
      "|[Organic Cucumber...| 366|\n",
      "|[Organic Lemon, O...| 353|\n",
      "|[Limes, Organic A...| 352|\n",
      "|[Organic Whole Mi...| 339|\n",
      "|[Organic Avocado,...| 334|\n",
      "+--------------------+----+\n",
      "\n"
     ]
    }
   ],
   "source": [
    "query = sql.sql(\"select items, freq from mostPopularItemInABasket where size(items) > 2 order by freq desc limit 20\")\n",
    "query.show()"
   ]
  },
  {
   "cell_type": "markdown",
   "metadata": {},
   "source": [
    "#### Display generated association rules"
   ]
  },
  {
   "cell_type": "code",
   "execution_count": 69,
   "metadata": {},
   "outputs": [
    {
     "name": "stdout",
     "output_type": "stream",
     "text": [
      "+--------------------+--------------------+-------------------+------------------+\n",
      "|          antecedent|          consequent|         confidence|              lift|\n",
      "+--------------------+--------------------+-------------------+------------------+\n",
      "|[Strawberry Rhuba...| [Blueberry Yoghurt]| 0.3096646942800789| 80.29801358062228|\n",
      "| [Blueberry Yoghurt]|[Strawberry Rhuba...| 0.3102766798418972| 80.29801358062227|\n",
      "|[Icelandic Style ...|[Nonfat Icelandic...| 0.2170212765957447| 78.66062066533443|\n",
      "|[Nonfat Icelandic...|[Icelandic Style ...|0.42265193370165743| 78.66062066533442|\n",
      "|[Icelandic Style ...|[Non Fat Acai & M...| 0.2397163120567376| 74.88794663964877|\n",
      "|[Non Fat Acai & M...|[Icelandic Style ...| 0.4023809523809524| 74.88794663964876|\n",
      "|[Blackberry Cucum...|[Kiwi Sandia Spar...|0.25675675675675674| 72.44902644580064|\n",
      "|[Kiwi Sandia Spar...|[Blackberry Cucum...| 0.2860215053763441| 72.44902644580063|\n",
      "|[Icelandic Style ...|[Non Fat Raspberr...| 0.3120567375886525| 71.08446611505121|\n",
      "|[Non Fat Raspberr...|[Icelandic Style ...| 0.3819444444444444| 71.08446611505121|\n",
      "|[Lemon Sparkling ...|[Grapefruit Spark...| 0.3130434782608696| 65.19701863354038|\n",
      "|[Grapefruit Spark...|[Lemon Sparkling ...|0.22857142857142856| 65.19701863354037|\n",
      "|[Total 2% Lowfat ...|[Total 2% Lowfat ...|0.27666151468315303| 56.36720602494073|\n",
      "|[Total 2% Lowfat ...|[Total 2% Lowfat ...| 0.2779503105590062|56.367206024940714|\n",
      "|[Total 2% Lowfat ...|[Total 2% Greek S...| 0.2689335394126739| 54.45447650123075|\n",
      "|[Total 2% Greek S...|[Total 2% Lowfat ...|0.26851851851851855| 54.45447650123075|\n",
      "|[Total 2% Greek S...|[Total 2% Lowfat ...| 0.2654320987654321| 54.07931715359252|\n",
      "|[Total 2% Lowfat ...|[Total 2% Greek S...| 0.2670807453416149| 54.07931715359251|\n",
      "|[Total 2% Lowfat ...|[Total 2% with St...| 0.3616692426584235| 48.77107878722414|\n",
      "|[Total 2% with St...|[Total 2% Lowfat ...|0.24049331963001028|48.771078787224134|\n",
      "+--------------------+--------------------+-------------------+------------------+\n",
      "only showing top 20 rows\n",
      "\n"
     ]
    }
   ],
   "source": [
    "rules = fpg_fit.associationRules\n",
    "rules.createOrReplaceTempView(\"rules\")\n",
    "query = sql.sql(\"select * from rules where lift > 1 order by lift desc\")\n",
    "query.show()"
   ]
  },
  {
   "cell_type": "code",
   "execution_count": 73,
   "metadata": {},
   "outputs": [
    {
     "name": "stdout",
     "output_type": "stream",
     "text": [
      "+--------------------+--------------------+-------------------+\n",
      "|                  if|                then|         confidence|\n",
      "+--------------------+--------------------+-------------------+\n",
      "|[Organic Raspberr...|[Bag of Organic B...| 0.5984251968503937|\n",
      "|[Organic Cucumber...|[Bag of Organic B...|           0.546875|\n",
      "|[Organic Kiwi, Or...|[Bag of Organic B...| 0.5459770114942529|\n",
      "|[Organic Navel Or...|[Bag of Organic B...| 0.5412186379928315|\n",
      "|[Yellow Onions, S...|            [Banana]| 0.5357142857142857|\n",
      "|[Organic Whole St...|[Bag of Organic B...| 0.5314685314685315|\n",
      "|[Organic Navel Or...|[Bag of Organic B...| 0.5283018867924528|\n",
      "|[Organic Raspberr...|[Bag of Organic B...|  0.521099116781158|\n",
      "|[Organic D'Anjou ...|[Bag of Organic B...| 0.5170454545454546|\n",
      "|[Organic Unsweete...|[Bag of Organic B...| 0.5141065830721003|\n",
      "|[Organic Broccoli...|[Bag of Organic B...| 0.5048231511254019|\n",
      "|[Organic Lemon, O...|[Bag of Organic B...| 0.4989106753812636|\n",
      "|[Organic Hass Avo...|[Bag of Organic B...|0.49393939393939396|\n",
      "|[Organic Fuji App...|            [Banana]| 0.4915254237288136|\n",
      "|[Honeycrisp Apple...|            [Banana]| 0.4868421052631579|\n",
      "|[Organic Large Ex...|[Bag of Organic B...| 0.4838709677419355|\n",
      "|[Organic Gala App...|[Bag of Organic B...| 0.4837905236907731|\n",
      "|[Organic Navel Or...|[Bag of Organic B...| 0.4821002386634845|\n",
      "|[Organic Kiwi, Or...|[Bag of Organic B...| 0.4792332268370607|\n",
      "|[Organic Carrot B...|[Bag of Organic B...|0.47315436241610737|\n",
      "+--------------------+--------------------+-------------------+\n",
      "\n"
     ]
    }
   ],
   "source": [
    "query = sql.sql(\"select antecedent as if, consequent as then, confidence from rules order by confidence desc limit 20\")\n",
    "query.show()"
   ]
  },
  {
   "cell_type": "code",
   "execution_count": 5,
   "metadata": {},
   "outputs": [],
   "source": [
    "spark.stop()"
   ]
  },
  {
   "cell_type": "markdown",
   "metadata": {},
   "source": [
    "## Credits & Links"
   ]
  },
  {
   "cell_type": "markdown",
   "metadata": {},
   "source": [
    "https://medium.com/analytics-vidhya/market-basket-analysis-on-3-million-orders-from-instacart-using-spark-24cc6469a92e"
   ]
  }
 ],
 "metadata": {
  "kernelspec": {
   "display_name": "Python 3",
   "language": "python",
   "name": "python3"
  },
  "language_info": {
   "codemirror_mode": {
    "name": "ipython",
    "version": 3
   },
   "file_extension": ".py",
   "mimetype": "text/x-python",
   "name": "python",
   "nbconvert_exporter": "python",
   "pygments_lexer": "ipython3",
   "version": "3.8.1"
  }
 },
 "nbformat": 4,
 "nbformat_minor": 4
}
