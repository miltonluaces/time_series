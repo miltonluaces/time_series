{
 "cells": [
  {
   "cell_type": "markdown",
   "metadata": {},
   "source": [
    "# Conjugated models: Dirichlet multinomial"
   ]
  },
  {
   "cell_type": "code",
   "execution_count": 1,
   "metadata": {},
   "outputs": [],
   "source": [
    "from thinkbayes2 import Suite"
   ]
  },
  {
   "cell_type": "markdown",
   "metadata": {},
   "source": [
    "### Generate data\n",
    "Represents hypotheses about which die was rolled\n",
    "  Computes the likelihood of the data under the hypothesis  \n",
    "     hypo: integer number of sides on the die  \n",
    "     data: integer die roll  \n",
    "   "
   ]
  },
  {
   "cell_type": "code",
   "execution_count": 15,
   "metadata": {},
   "outputs": [],
   "source": [
    "class Dice(Suite):\n",
    "     def Likelihood(self, data, hypo):\n",
    "        if hypo < data: return 0\n",
    "        else: return 1.0/hypo\n",
    "        \n",
    "suite = Dice([4, 6, 8, 12, 20, 21])"
   ]
  },
  {
   "cell_type": "markdown",
   "metadata": {},
   "source": [
    "### Train"
   ]
  },
  {
   "cell_type": "code",
   "execution_count": 16,
   "metadata": {},
   "outputs": [
    {
     "name": "stdout",
     "output_type": "stream",
     "text": [
      "After one 6\n",
      "4 0.0\n",
      "6 0.3526448362720403\n",
      "8 0.2644836272040302\n",
      "12 0.17632241813602015\n",
      "20 0.10579345088161209\n",
      "21 0.10075566750629722\n"
     ]
    }
   ],
   "source": [
    "suite.Update(6)\n",
    "print('After one 6')\n",
    "suite.Print()"
   ]
  },
  {
   "cell_type": "code",
   "execution_count": 17,
   "metadata": {},
   "outputs": [
    {
     "name": "stdout",
     "output_type": "stream",
     "text": [
      "After more rolls\n",
      "4 0.0\n",
      "6 0.0\n",
      "8 0.9132887215873028\n",
      "12 0.0801789824164436\n",
      "20 0.0037408306036215934\n",
      "21 0.0027914653926319217\n"
     ]
    }
   ],
   "source": [
    "for roll in [4, 8, 7, 7, 2]:\n",
    "    suite.Update(roll)\n",
    "\n",
    "print('After more rolls')\n",
    "suite.Print()"
   ]
  },
  {
   "cell_type": "code",
   "execution_count": null,
   "metadata": {},
   "outputs": [],
   "source": []
  }
 ],
 "metadata": {
  "kernelspec": {
   "display_name": "Python 3.8.1 64-bit",
   "language": "python",
   "name": "python38164bitc33de82c9da04edea88eb124459bf44a"
  },
  "language_info": {
   "codemirror_mode": {
    "name": "ipython",
    "version": 3
   },
   "file_extension": ".py",
   "mimetype": "text/x-python",
   "name": "python",
   "nbconvert_exporter": "python",
   "pygments_lexer": "ipython3",
   "version": "3.8.6"
  }
 },
 "nbformat": 4,
 "nbformat_minor": 4
}
