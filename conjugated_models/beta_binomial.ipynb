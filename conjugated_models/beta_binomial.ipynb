{
 "cells": [
  {
   "cell_type": "markdown",
   "metadata": {},
   "source": [
    "# Conjugated models for time_series : Beta Binomial"
   ]
  },
  {
   "cell_type": "code",
   "execution_count": 25,
   "metadata": {},
   "outputs": [],
   "source": [
    "from conjugate_prior import BetaBinomial"
   ]
  },
  {
   "cell_type": "markdown",
   "metadata": {},
   "source": [
    "### Beta-Binomial"
   ]
  },
  {
   "cell_type": "markdown",
   "metadata": {},
   "source": [
    " Uninformative prior"
   ]
  },
  {
   "cell_type": "code",
   "execution_count": 17,
   "metadata": {},
   "outputs": [
    {
     "name": "stdout",
     "output_type": "stream",
     "text": [
      "F= 1  T= 1\n"
     ]
    }
   ],
   "source": [
    "model = BetaBinomial()\n",
    "print('F=', model.F, ' T=', model.T)"
   ]
  },
  {
   "cell_type": "markdown",
   "metadata": {},
   "source": [
    "Train (one step)"
   ]
  },
  {
   "cell_type": "code",
   "execution_count": 8,
   "metadata": {},
   "outputs": [
    {
     "name": "stdout",
     "output_type": "stream",
     "text": [
      "F =  106\n",
      "T =  96\n"
     ]
    }
   ],
   "source": [
    "heads = 95\n",
    "tails = 105\n",
    "model = model.update(heads, tails)\n",
    "print('F=', model.F, ' T=', model.T)"
   ]
  },
  {
   "cell_type": "markdown",
   "metadata": {},
   "source": [
    "Confidence interval"
   ]
  },
  {
   "cell_type": "code",
   "execution_count": 12,
   "metadata": {},
   "outputs": [],
   "source": [
    "ci = model.posterior(0.45, 0.55)\n",
    "print ('There is ' , round(ci*100),  '% chance that the coin is fair')"
   ]
  },
  {
   "cell_type": "markdown",
   "metadata": {},
   "source": [
    "Prediction"
   ]
  },
  {
   "cell_type": "code",
   "execution_count": 13,
   "metadata": {},
   "outputs": [
    {
     "name": "stdout",
     "output_type": "stream",
     "text": [
      "The chance of flipping 50 Heads and 50 Tails in 100 trials is 5.99%\n"
     ]
    }
   ],
   "source": [
    "pred = model.predict(50, 50)\n",
    "print (\"The chance of flipping 50 Heads and 50 Tails in 100 trials is {p:.2f}%\".format(p=pred*100))"
   ]
  },
  {
   "cell_type": "code",
   "execution_count": 14,
   "metadata": {},
   "outputs": [
    {
     "name": "stdout",
     "output_type": "stream",
     "text": [
      "F =  109\n",
      "T =  101\n"
     ]
    }
   ],
   "source": [
    "model = model.update(5,3)\n",
    "print('F = ', model.F)\n",
    "print('T = ', model.T)"
   ]
  },
  {
   "cell_type": "markdown",
   "metadata": {},
   "source": [
    "### Binary time series (no time dependence, just distribution)"
   ]
  },
  {
   "cell_type": "code",
   "execution_count": 18,
   "metadata": {},
   "outputs": [
    {
     "data": {
      "text/plain": [
       "2"
      ]
     },
     "execution_count": 18,
     "metadata": {},
     "output_type": "execute_result"
    }
   ],
   "source": [
    "ts = [1,1,0,0,0,1,0,0,1,0,0,0,1,1]"
   ]
  },
  {
   "cell_type": "code",
   "execution_count": 24,
   "metadata": {},
   "outputs": [
    {
     "name": "stdout",
     "output_type": "stream",
     "text": [
      "Ones= 0 Zeros= 0\n",
      "\n",
      "Time  0\n",
      "Ones= 1 Zeros= 0\n",
      "F= 1  T= 2\n",
      "\n",
      "Time  1\n",
      "Ones= 2 Zeros= 0\n",
      "F= 1  T= 4\n",
      "\n",
      "Time  2\n",
      "Ones= 2 Zeros= 1\n",
      "F= 2  T= 6\n",
      "\n",
      "Time  3\n",
      "Ones= 2 Zeros= 2\n",
      "F= 4  T= 8\n",
      "\n",
      "Time  4\n",
      "Ones= 2 Zeros= 3\n",
      "F= 7  T= 10\n",
      "\n",
      "Time  5\n",
      "Ones= 3 Zeros= 3\n",
      "F= 10  T= 13\n",
      "\n",
      "Time  6\n",
      "Ones= 3 Zeros= 4\n",
      "F= 14  T= 16\n",
      "\n",
      "Time  7\n",
      "Ones= 3 Zeros= 5\n",
      "F= 19  T= 19\n",
      "\n",
      "Time  8\n",
      "Ones= 4 Zeros= 5\n",
      "F= 24  T= 23\n",
      "\n",
      "Time  9\n",
      "Ones= 4 Zeros= 6\n",
      "F= 30  T= 27\n",
      "\n",
      "Time  10\n",
      "Ones= 4 Zeros= 7\n",
      "F= 37  T= 31\n",
      "\n",
      "Time  11\n",
      "Ones= 4 Zeros= 8\n",
      "F= 45  T= 35\n",
      "\n",
      "Time  12\n",
      "Ones= 5 Zeros= 8\n",
      "F= 53  T= 40\n",
      "\n",
      "Time  13\n",
      "Ones= 6 Zeros= 8\n",
      "F= 61  T= 46\n"
     ]
    }
   ],
   "source": [
    "model = BetaBinomial()\n",
    "ones = 0\n",
    "zeros = 0\n",
    "print('Ones=', ones, 'Zeros=', zeros)\n",
    "    \n",
    "for t in range(len(ts)):\n",
    "    if ts[t]==1: ones +=1\n",
    "    else: zeros +=1\n",
    "    model = model.update(ones, zeros)\n",
    "    print('\\nTime ', t)\n",
    "    print('Ones=', ones, 'Zeros=', zeros)\n",
    "    print('F=', model.F, ' T=', model.T)\n",
    "        "
   ]
  },
  {
   "cell_type": "code",
   "execution_count": null,
   "metadata": {},
   "outputs": [],
   "source": []
  }
 ],
 "metadata": {
  "kernelspec": {
   "display_name": "Python 3.8.1 64-bit",
   "language": "python",
   "name": "python38164bitc33de82c9da04edea88eb124459bf44a"
  },
  "language_info": {
   "codemirror_mode": {
    "name": "ipython",
    "version": 3
   },
   "file_extension": ".py",
   "mimetype": "text/x-python",
   "name": "python",
   "nbconvert_exporter": "python",
   "pygments_lexer": "ipython3",
   "version": "3.8.6"
  }
 },
 "nbformat": 4,
 "nbformat_minor": 4
}
