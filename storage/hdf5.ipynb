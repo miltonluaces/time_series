{
 "cells": [
  {
   "cell_type": "markdown",
   "metadata": {},
   "source": [
    "# HDF5 for Time series storage"
   ]
  },
  {
   "cell_type": "code",
   "execution_count": 6,
   "metadata": {},
   "outputs": [],
   "source": [
    "from utilities.std_imports import *"
   ]
  },
  {
   "cell_type": "markdown",
   "metadata": {},
   "source": [
    "### Generate time series"
   ]
  },
  {
   "cell_type": "code",
   "execution_count": 7,
   "metadata": {},
   "outputs": [
    {
     "data": {
      "text/html": [
       "<div>\n",
       "<style scoped>\n",
       "    .dataframe tbody tr th:only-of-type {\n",
       "        vertical-align: middle;\n",
       "    }\n",
       "\n",
       "    .dataframe tbody tr th {\n",
       "        vertical-align: top;\n",
       "    }\n",
       "\n",
       "    .dataframe thead th {\n",
       "        text-align: right;\n",
       "    }\n",
       "</style>\n",
       "<table border=\"1\" class=\"dataframe\">\n",
       "  <thead>\n",
       "    <tr style=\"text-align: right;\">\n",
       "      <th></th>\n",
       "      <th>val</th>\n",
       "    </tr>\n",
       "  </thead>\n",
       "  <tbody>\n",
       "    <tr>\n",
       "      <th>1980-05-03 12:31:40</th>\n",
       "      <td>0.698694</td>\n",
       "    </tr>\n",
       "    <tr>\n",
       "      <th>1980-07-04 13:44:52</th>\n",
       "      <td>0.172904</td>\n",
       "    </tr>\n",
       "    <tr>\n",
       "      <th>1980-06-16 12:53:08</th>\n",
       "      <td>0.559598</td>\n",
       "    </tr>\n",
       "    <tr>\n",
       "      <th>1980-06-29 03:53:36</th>\n",
       "      <td>0.112153</td>\n",
       "    </tr>\n",
       "    <tr>\n",
       "      <th>1980-03-11 07:01:14</th>\n",
       "      <td>0.928203</td>\n",
       "    </tr>\n",
       "  </tbody>\n",
       "</table>\n",
       "</div>"
      ],
      "text/plain": [
       "                          val\n",
       "1980-05-03 12:31:40  0.698694\n",
       "1980-07-04 13:44:52  0.172904\n",
       "1980-06-16 12:53:08  0.559598\n",
       "1980-06-29 03:53:36  0.112153\n",
       "1980-03-11 07:01:14  0.928203"
      ]
     },
     "execution_count": 7,
     "metadata": {},
     "output_type": "execute_result"
    }
   ],
   "source": [
    "df = pd.DataFrame({'val':np.random.rand(10**6)}, index=pd.date_range('1980-01-01', freq='19S', periods=10**6))\n",
    "df = df.sample(frac=1)\n",
    "df.head()"
   ]
  },
  {
   "cell_type": "markdown",
   "metadata": {},
   "source": [
    "### HDF5 storage"
   ]
  },
  {
   "cell_type": "code",
   "execution_count": 8,
   "metadata": {},
   "outputs": [],
   "source": [
    "store = pd.HDFStore('D:/data/csv/time_series/test_time_ser.h5')\n",
    "store.append('XAU', df, format='t')\n",
    "store.close()"
   ]
  },
  {
   "cell_type": "markdown",
   "metadata": {},
   "source": [
    "### Retrieve data"
   ]
  },
  {
   "cell_type": "code",
   "execution_count": 11,
   "metadata": {},
   "outputs": [
    {
     "data": {
      "text/html": [
       "<div>\n",
       "<style scoped>\n",
       "    .dataframe tbody tr th:only-of-type {\n",
       "        vertical-align: middle;\n",
       "    }\n",
       "\n",
       "    .dataframe tbody tr th {\n",
       "        vertical-align: top;\n",
       "    }\n",
       "\n",
       "    .dataframe thead th {\n",
       "        text-align: right;\n",
       "    }\n",
       "</style>\n",
       "<table border=\"1\" class=\"dataframe\">\n",
       "  <thead>\n",
       "    <tr style=\"text-align: right;\">\n",
       "      <th></th>\n",
       "      <th>val</th>\n",
       "    </tr>\n",
       "  </thead>\n",
       "  <tbody>\n",
       "    <tr>\n",
       "      <th>1980-04-23 16:31:36</th>\n",
       "      <td>0.196911</td>\n",
       "    </tr>\n",
       "    <tr>\n",
       "      <th>1980-04-07 17:58:39</th>\n",
       "      <td>0.825497</td>\n",
       "    </tr>\n",
       "    <tr>\n",
       "      <th>1980-04-06 03:41:14</th>\n",
       "      <td>0.377207</td>\n",
       "    </tr>\n",
       "    <tr>\n",
       "      <th>1980-04-27 02:22:47</th>\n",
       "      <td>0.356733</td>\n",
       "    </tr>\n",
       "    <tr>\n",
       "      <th>1980-04-21 13:08:13</th>\n",
       "      <td>0.356281</td>\n",
       "    </tr>\n",
       "  </tbody>\n",
       "</table>\n",
       "</div>"
      ],
      "text/plain": [
       "                          val\n",
       "1980-04-23 16:31:36  0.196911\n",
       "1980-04-07 17:58:39  0.825497\n",
       "1980-04-06 03:41:14  0.377207\n",
       "1980-04-27 02:22:47  0.356733\n",
       "1980-04-21 13:08:13  0.356281"
      ]
     },
     "execution_count": 11,
     "metadata": {},
     "output_type": "execute_result"
    }
   ],
   "source": [
    "store = pd.HDFStore('D:/data/csv/time_series/test_time_ser.h5')\n",
    "df = store.select('XAU', where=\"index >= '1980-04-04' and index<= '1980-05-01'\")\n",
    "df.head()"
   ]
  },
  {
   "cell_type": "markdown",
   "metadata": {},
   "source": [
    "### Credits & Links"
   ]
  },
  {
   "cell_type": "markdown",
   "metadata": {},
   "source": [
    "https://stackoverflow.com/questions/41555400/python-fast-hdf5-time-series-data-queries"
   ]
  }
 ],
 "metadata": {
  "kernelspec": {
   "display_name": "Python 3",
   "language": "python",
   "name": "python3"
  },
  "language_info": {
   "codemirror_mode": {
    "name": "ipython",
    "version": 3
   },
   "file_extension": ".py",
   "mimetype": "text/x-python",
   "name": "python",
   "nbconvert_exporter": "python",
   "pygments_lexer": "ipython3",
   "version": "3.8.6"
  }
 },
 "nbformat": 4,
 "nbformat_minor": 4
}
