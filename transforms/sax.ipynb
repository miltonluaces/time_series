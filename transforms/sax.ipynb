{
 "cells": [
  {
   "cell_type": "markdown",
   "metadata": {},
   "source": [
    "# Sax"
   ]
  },
  {
   "cell_type": "code",
   "execution_count": 1,
   "metadata": {},
   "outputs": [],
   "source": [
    "from utilities.std_imports import *\n",
    "from saxpy.sax import sax_via_window"
   ]
  },
  {
   "cell_type": "code",
   "execution_count": 2,
   "metadata": {},
   "outputs": [],
   "source": [
    "data = np.array([0., 0., 0., 0., 0., -0.270340178359072, -0.367828308500142,\n",
    "            0.666980581124872, 1.87088147328446, 2.14548907684624,\n",
    "            -0.480859313143032, -0.72911654245842, -0.490308602315934,\n",
    "            -0.66152028906509, -0.221049033806403, 0.367003418871239,\n",
    "            0.631073992586373, 0.0487728723414486, 0.762655178750436,\n",
    "            0.78574757843331, 0.338239686422963, 0.784206454089066,\n",
    "            -2.14265084073625, 2.11325193044223, 0.186018356196443,\n",
    "            0., 0., 0., 0., 0., 0., 0., 0., 0., 0., 0.519132472499234,\n",
    "            -2.604783141655, -0.244519550114012, -1.6570790528784,\n",
    "            3.34184602886343, 2.10361226260999, 1.9796808733979,\n",
    "            -0.822247322003058, 1.06850578033292, -0.678811824405992,\n",
    "            0.804225748913681, 0.57363964388698, 0.437113583759113,\n",
    "            0.437208643628268, 0.989892093383503, 1.76545983424176,\n",
    "            0.119483882364649, -0.222311941138971, -0.74669456611669,\n",
    "            -0.0663660879732063, 0., 0., 0., 0., 0.,])"
   ]
  },
  {
   "cell_type": "code",
   "execution_count": 3,
   "metadata": {},
   "outputs": [],
   "source": [
    "sax_none = sax_via_window(data, win_size=6, paa_size=3, alphabet_size=3, nr_strategy=None)"
   ]
  },
  {
   "cell_type": "markdown",
   "metadata": {},
   "source": [
    "Result is represented as a data structure of resulting words and their respective positions on time series:"
   ]
  },
  {
   "cell_type": "code",
   "execution_count": 4,
   "metadata": {},
   "outputs": [
    {
     "data": {
      "text/plain": [
       "defaultdict(list,\n",
       "            {'cca': [0, 1],\n",
       "             'bbc': [2],\n",
       "             'bac': [3, 19, 34, 45, 51],\n",
       "             'aac': [4, 10, 11, 30, 35],\n",
       "             'acb': [5, 16, 21, 37, 43],\n",
       "             'bca': [6, 17, 32, 38, 47, 48],\n",
       "             'cba': [7, 39, 49],\n",
       "             'caa': [8, 23, 24, 40],\n",
       "             'cab': [9, 50],\n",
       "             'abc': [12, 14, 36, 44],\n",
       "             'acc': [13, 52, 53],\n",
       "             'bbb': [15, 18, 20, 22, 25, 26, 27, 28, 29, 41, 42, 46],\n",
       "             'bba': [31],\n",
       "             'cbb': [33]})"
      ]
     },
     "execution_count": 4,
     "metadata": {},
     "output_type": "execute_result"
    }
   ],
   "source": [
    "sax_none"
   ]
  },
  {
   "cell_type": "markdown",
   "metadata": {},
   "source": [
    "## Credits & Links"
   ]
  },
  {
   "cell_type": "markdown",
   "metadata": {},
   "source": [
    "https://github.com/seninp/saxpy"
   ]
  }
 ],
 "metadata": {
  "kernelspec": {
   "display_name": "Python 3",
   "language": "python",
   "name": "python3"
  },
  "language_info": {
   "codemirror_mode": {
    "name": "ipython",
    "version": 3
   },
   "file_extension": ".py",
   "mimetype": "text/x-python",
   "name": "python",
   "nbconvert_exporter": "python",
   "pygments_lexer": "ipython3",
   "version": "3.8.6"
  }
 },
 "nbformat": 4,
 "nbformat_minor": 4
}
