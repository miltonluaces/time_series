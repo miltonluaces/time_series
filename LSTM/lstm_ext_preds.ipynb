{
 "cells": [
  {
   "cell_type": "markdown",
   "metadata": {},
   "source": [
    "# LSTM with external predictors"
   ]
  },
  {
   "cell_type": "code",
   "execution_count": null,
   "metadata": {},
   "outputs": [],
   "source": [
    "import os\n",
    "import time\n",
    "import numpy as np\n",
    "\n",
    "import pandas as pd\n",
    "import multiprocessing as mp\n",
    "import concurrent.futures as ccf\n",
    "\n",
    "from joblib import Parallel, delayed\n",
    "from datetime import datetime\n",
    "\n",
    "import matplotlib.pyplot as plt\n",
    "import random\n",
    "\n",
    "import itertools\n",
    "random import choices\n",
    "operator import itemgetter\n",
    "math import sqrt\n",
    "\n",
    "import sklearn\n",
    "import linear_model\n",
    "\n",
    "preprocessing import MinMaxScaler\n",
    "preprocessing import LabelEncoder\n",
    "\n",
    "metrics import mean_squared_error, r2_score\n",
    "import preprocessing\n",
    "\n",
    "model_selection import KFold\n",
    "\n",
    "import utilities.LSTM_ts_utilities import *\n",
    "import utilities.load_ts import get_ts, get_df\n",
    "import utilities.ts_utils import *\n",
    "\n",
    "import tensorflow.keras.models as tkm\n",
    "\n",
    "import tensorflow.keras.layers as tkl\n",
    "\n",
    "from utilities.1stm_models import *\n",
    "\n",
    "from statsmodels.tsa.seasonal import seasonal_decompose\n",
    "\n",
    "from statsmodels.graphics.tsaplots import plot_acf, plot_pacf"
   ]
  },
  {
   "cell_type": "markdown",
   "metadata": {},
   "source": [
    "### Load Data"
   ]
  },
  {
   "cell_type": "code",
   "execution_count": null,
   "metadata": {},
   "outputs": [],
   "source": [
    "df = pd.read_csv('.csv')\n",
    "df['Date'] = pd.to_datetime(df['Date'], format='%d/%m/%Y')\n",
    "df['Day'].astype('category')\n",
    "df[ 'Day'].cat.codes\n",
    "\n",
    "scale_factor = 10e0\n",
    "\n",
    "df[['Sales', 'Jackpot']] = round(df[['Sales', 'Factor1']]/scale_factor, 3)\n",
    "\n",
    "df = df.dropna()\n",
    "print(df.head())\n",
    "\n",
    "nvars=4\n",
    "nsteps=1\n",
    "mu=3\n",
    "\n",
    "df_analysis = df[['Sales', 'Factor1', 'Factor2', 'Factor3', 'Factor4']]\n",
    "ds = build_ds(df_analysis, vobs=['Sales', 'Factor1', 'Factor2', 'Factor3'], mw=mw, fh=nsteps)\n",
    "ds. head()"
   ]
  },
  {
   "cell_type": "code",
   "execution_count": null,
   "metadata": {},
   "outputs": [],
   "source": [
    "split_index = 375\n",
    "nlabels = nvars*nsteps\n",
    "\n",
    "ds_train =ds.values[:split_index, ‘:]\n",
    "ds_test =ds.values[split_index:, :]\n",
    "\n",
    "X_train, y_train = ds_train[:, :-nlabels], ds_train[:, -nlabels:]\n",
    "X_test, y_test = ds_test[:, :-nlabels], ds_test[:, -nlabels:]\n",
    "\n",
    "X_train, y_train, X_test, y_test =\n",
    "\n",
    "prep_train(ds, split_index=375, nvars=nvars, nsteps=nste\n",
    "print(X_train.shape, y_train.shape, X_test.shape, y_test.shape)\n",
    "\n",
    "X_train, X_test = reshape4d1lstm(X_train, X_test, mw)\n",
    "\n",
    "X_train.shape, y_train.shape, X_test.shape, y_test.shape"
   ]
  },
  {
   "cell_type": "code",
   "execution_count": null,
   "metadata": {},
   "outputs": [],
   "source": [
    "model_sjw = tkm.Sequential()\n",
    "\n",
    "model_sjw.add(tk1.LSTM(units=60, input_shape=(X_train.shape[1], X_train.shape[2])))\n",
    "model_sjw.add(tk1l.Dense(4))\n",
    "\n",
    "model_sjw.compile(loss='mae', optimizer='adam' )\n",
    "\n",
    "fit_model(model_sjw, X_train, y_train, X_test, y_test, epochs=120, batch_size=4, verbose=2)\n",
    "\n",
    "jitest, epochs=120, batch_size=4, verbose=2)"
   ]
  }
 ],
 "metadata": {
  "kernelspec": {
   "display_name": "Python 3.8.1 64-bit",
   "language": "python",
   "name": "python38164bitc33de82c9da04edea88eb124459bf44a"
  },
  "language_info": {
   "codemirror_mode": {
    "name": "ipython",
    "version": 3
   },
   "file_extension": ".py",
   "mimetype": "text/x-python",
   "name": "python",
   "nbconvert_exporter": "python",
   "pygments_lexer": "ipython3",
   "version": "3.8.1"
  }
 },
 "nbformat": 4,
 "nbformat_minor": 4
}
