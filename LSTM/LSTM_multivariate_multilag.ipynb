{
 "cells": [
  {
   "cell_type": "markdown",
   "metadata": {},
   "source": [
    "# LSTM Multivariate forecasting with multiple lags"
   ]
  },
  {
   "cell_type": "code",
   "execution_count": 1,
   "metadata": {},
   "outputs": [],
   "source": [
    "from utilities.std_imports import *\n",
    "from utilities.tf_imports import *\n",
    "\n",
    "import sklearn.preprocessing as skp\n",
    "import sklearn.metrics as skm\n",
    "import time_series.LSTM.LSTM_ts_utilities as tsu"
   ]
  },
  {
   "cell_type": "markdown",
   "metadata": {},
   "source": [
    "### Load data"
   ]
  },
  {
   "cell_type": "code",
   "execution_count": 2,
   "metadata": {},
   "outputs": [
    {
     "data": {
      "text/html": [
       "<div>\n",
       "<style scoped>\n",
       "    .dataframe tbody tr th:only-of-type {\n",
       "        vertical-align: middle;\n",
       "    }\n",
       "\n",
       "    .dataframe tbody tr th {\n",
       "        vertical-align: top;\n",
       "    }\n",
       "\n",
       "    .dataframe thead th {\n",
       "        text-align: right;\n",
       "    }\n",
       "</style>\n",
       "<table border=\"1\" class=\"dataframe\">\n",
       "  <thead>\n",
       "    <tr style=\"text-align: right;\">\n",
       "      <th></th>\n",
       "      <th>pollution</th>\n",
       "      <th>dew</th>\n",
       "      <th>temp</th>\n",
       "      <th>press</th>\n",
       "      <th>wnd_dir</th>\n",
       "      <th>wnd_spd</th>\n",
       "      <th>snow</th>\n",
       "      <th>rain</th>\n",
       "    </tr>\n",
       "    <tr>\n",
       "      <th>date</th>\n",
       "      <th></th>\n",
       "      <th></th>\n",
       "      <th></th>\n",
       "      <th></th>\n",
       "      <th></th>\n",
       "      <th></th>\n",
       "      <th></th>\n",
       "      <th></th>\n",
       "    </tr>\n",
       "  </thead>\n",
       "  <tbody>\n",
       "    <tr>\n",
       "      <th>2010-01-02 00:00:00</th>\n",
       "      <td>129.0</td>\n",
       "      <td>-16</td>\n",
       "      <td>-4.0</td>\n",
       "      <td>1020.0</td>\n",
       "      <td>SE</td>\n",
       "      <td>1.79</td>\n",
       "      <td>0</td>\n",
       "      <td>0</td>\n",
       "    </tr>\n",
       "    <tr>\n",
       "      <th>2010-01-02 01:00:00</th>\n",
       "      <td>148.0</td>\n",
       "      <td>-15</td>\n",
       "      <td>-4.0</td>\n",
       "      <td>1020.0</td>\n",
       "      <td>SE</td>\n",
       "      <td>2.68</td>\n",
       "      <td>0</td>\n",
       "      <td>0</td>\n",
       "    </tr>\n",
       "    <tr>\n",
       "      <th>2010-01-02 02:00:00</th>\n",
       "      <td>159.0</td>\n",
       "      <td>-11</td>\n",
       "      <td>-5.0</td>\n",
       "      <td>1021.0</td>\n",
       "      <td>SE</td>\n",
       "      <td>3.57</td>\n",
       "      <td>0</td>\n",
       "      <td>0</td>\n",
       "    </tr>\n",
       "    <tr>\n",
       "      <th>2010-01-02 03:00:00</th>\n",
       "      <td>181.0</td>\n",
       "      <td>-7</td>\n",
       "      <td>-5.0</td>\n",
       "      <td>1022.0</td>\n",
       "      <td>SE</td>\n",
       "      <td>5.36</td>\n",
       "      <td>1</td>\n",
       "      <td>0</td>\n",
       "    </tr>\n",
       "    <tr>\n",
       "      <th>2010-01-02 04:00:00</th>\n",
       "      <td>138.0</td>\n",
       "      <td>-7</td>\n",
       "      <td>-5.0</td>\n",
       "      <td>1022.0</td>\n",
       "      <td>SE</td>\n",
       "      <td>6.25</td>\n",
       "      <td>2</td>\n",
       "      <td>0</td>\n",
       "    </tr>\n",
       "  </tbody>\n",
       "</table>\n",
       "</div>"
      ],
      "text/plain": [
       "                     pollution  dew  temp   press wnd_dir  wnd_spd  snow  rain\n",
       "date                                                                          \n",
       "2010-01-02 00:00:00      129.0  -16  -4.0  1020.0      SE     1.79     0     0\n",
       "2010-01-02 01:00:00      148.0  -15  -4.0  1020.0      SE     2.68     0     0\n",
       "2010-01-02 02:00:00      159.0  -11  -5.0  1021.0      SE     3.57     0     0\n",
       "2010-01-02 03:00:00      181.0   -7  -5.0  1022.0      SE     5.36     1     0\n",
       "2010-01-02 04:00:00      138.0   -7  -5.0  1022.0      SE     6.25     2     0"
      ]
     },
     "execution_count": 2,
     "metadata": {},
     "output_type": "execute_result"
    }
   ],
   "source": [
    "ds = pd.read_csv(csv_path + 'pollution.csv', header=0, index_col=0)\n",
    "values = ds.values\n",
    "ds.head()"
   ]
  },
  {
   "cell_type": "markdown",
   "metadata": {},
   "source": [
    "### Encoding"
   ]
  },
  {
   "cell_type": "code",
   "execution_count": 3,
   "metadata": {},
   "outputs": [
    {
     "name": "stdout",
     "output_type": "stream",
     "text": [
      "['SE' 'SE' 'SE' ... 'NW' 'NW' 'NW']\n",
      "[2. 2. 2. ... 1. 1. 1.]\n",
      "[0.6666667  0.6666667  0.6666667  ... 0.33333334 0.33333334 0.33333334]\n"
     ]
    }
   ],
   "source": [
    "print(values[:,4])\n",
    "encoder = skp.LabelEncoder()\n",
    "\n",
    "values[:,4] = encoder.fit_transform(values[:,4])\n",
    "values = values.astype('float32')\n",
    "print(values[:,4])\n",
    "\n",
    "scaler = skp.MinMaxScaler(feature_range=(0, 1))\n",
    "values_sc = scaler.fit_transform(values)\n",
    "print(values_sc[:,4])"
   ]
  },
  {
   "cell_type": "markdown",
   "metadata": {},
   "source": [
    "### Specify lags"
   ]
  },
  {
   "cell_type": "code",
   "execution_count": 8,
   "metadata": {},
   "outputs": [
    {
     "data": {
      "text/plain": [
       "(43797, 32)"
      ]
     },
     "execution_count": 8,
     "metadata": {},
     "output_type": "execute_result"
    }
   ],
   "source": [
    "n_lags = 3\n",
    "n_features = 8\n",
    "values_sc = pd.DataFrame(values_sc)\n",
    "\n",
    "values_sup = tsu.build_ds_uni(ds=values_sc, mw=n_lags, fh=1)\n",
    "values_sup.dropna(inplace=True)\n",
    "values_sup.shape"
   ]
  },
  {
   "cell_type": "markdown",
   "metadata": {},
   "source": [
    "### Prepare data"
   ]
  },
  {
   "cell_type": "code",
   "execution_count": 9,
   "metadata": {},
   "outputs": [
    {
     "name": "stdout",
     "output_type": "stream",
     "text": [
      "(8760, 24) 8760 (8760,)\n"
     ]
    },
    {
     "data": {
      "text/plain": [
       "((8760, 3, 8), (8760,), (35037, 3, 8), (35037,))"
      ]
     },
     "execution_count": 9,
     "metadata": {},
     "output_type": "execute_result"
    }
   ],
   "source": [
    "values = values_sup.values\n",
    "n_train_hours = 365 * 24\n",
    "ds_train = values[:n_train_hours, :]\n",
    "ds_test = values[n_train_hours:, :]\n",
    "\n",
    "# split into input and outputs\n",
    "n_obs = n_lags * n_features\n",
    "X_train, y_train = ds_train[:, :n_obs], ds_train[:, -n_features]\n",
    "X_test, y_test = ds_test[:, :n_obs], ds_test[:, -n_features]\n",
    "print(X_train.shape, len(X_train), y_train.shape)\n",
    "\n",
    "# reshape to [samples, timesteps, features]\n",
    "X_train = X_train.reshape((X_train.shape[0], n_lags, n_features))\n",
    "X_test = X_test.reshape((X_test.shape[0], n_lags, n_features))\n",
    "X_train.shape, y_train.shape, X_test.shape, y_test.shape"
   ]
  },
  {
   "cell_type": "markdown",
   "metadata": {},
   "source": [
    "### Build model"
   ]
  },
  {
   "cell_type": "code",
   "execution_count": 10,
   "metadata": {},
   "outputs": [
    {
     "name": "stdout",
     "output_type": "stream",
     "text": [
      "Epoch 1/50\n",
      "122/122 - 3s - loss: 0.0517 - val_loss: 0.0684\n",
      "Epoch 2/50\n",
      "122/122 - 1s - loss: 0.0265 - val_loss: 0.0437\n",
      "Epoch 3/50\n",
      "122/122 - 1s - loss: 0.0219 - val_loss: 0.0297\n",
      "Epoch 4/50\n",
      "122/122 - 1s - loss: 0.0213 - val_loss: 0.0251\n",
      "Epoch 5/50\n",
      "122/122 - 1s - loss: 0.0209 - val_loss: 0.0238\n",
      "Epoch 6/50\n",
      "122/122 - 1s - loss: 0.0206 - val_loss: 0.0214\n",
      "Epoch 7/50\n",
      "122/122 - 1s - loss: 0.0197 - val_loss: 0.0192\n",
      "Epoch 8/50\n",
      "122/122 - 1s - loss: 0.0192 - val_loss: 0.0184\n",
      "Epoch 9/50\n",
      "122/122 - 1s - loss: 0.0190 - val_loss: 0.0179\n",
      "Epoch 10/50\n",
      "122/122 - 1s - loss: 0.0183 - val_loss: 0.0173\n",
      "Epoch 11/50\n",
      "122/122 - 1s - loss: 0.0179 - val_loss: 0.0170\n",
      "Epoch 12/50\n",
      "122/122 - 1s - loss: 0.0176 - val_loss: 0.0168\n",
      "Epoch 13/50\n",
      "122/122 - 1s - loss: 0.0173 - val_loss: 0.0170\n",
      "Epoch 14/50\n",
      "122/122 - 1s - loss: 0.0169 - val_loss: 0.0167\n",
      "Epoch 15/50\n",
      "122/122 - 1s - loss: 0.0164 - val_loss: 0.0159\n",
      "Epoch 16/50\n",
      "122/122 - 1s - loss: 0.0162 - val_loss: 0.0156\n",
      "Epoch 17/50\n",
      "122/122 - 1s - loss: 0.0160 - val_loss: 0.0158\n",
      "Epoch 18/50\n",
      "122/122 - 1s - loss: 0.0154 - val_loss: 0.0152\n",
      "Epoch 19/50\n",
      "122/122 - 1s - loss: 0.0154 - val_loss: 0.0159\n",
      "Epoch 20/50\n",
      "122/122 - 1s - loss: 0.0151 - val_loss: 0.0160\n",
      "Epoch 21/50\n",
      "122/122 - 1s - loss: 0.0150 - val_loss: 0.0173\n",
      "Epoch 22/50\n",
      "122/122 - 1s - loss: 0.0150 - val_loss: 0.0168\n",
      "Epoch 23/50\n",
      "122/122 - 1s - loss: 0.0147 - val_loss: 0.0172\n",
      "Epoch 24/50\n",
      "122/122 - 1s - loss: 0.0147 - val_loss: 0.0169\n",
      "Epoch 25/50\n",
      "122/122 - 1s - loss: 0.0147 - val_loss: 0.0170\n",
      "Epoch 26/50\n",
      "122/122 - 1s - loss: 0.0146 - val_loss: 0.0168\n",
      "Epoch 27/50\n",
      "122/122 - 1s - loss: 0.0146 - val_loss: 0.0166\n",
      "Epoch 28/50\n",
      "122/122 - 1s - loss: 0.0145 - val_loss: 0.0166\n",
      "Epoch 29/50\n",
      "122/122 - 1s - loss: 0.0146 - val_loss: 0.0162\n",
      "Epoch 30/50\n",
      "122/122 - 1s - loss: 0.0145 - val_loss: 0.0157\n",
      "Epoch 31/50\n",
      "122/122 - 1s - loss: 0.0144 - val_loss: 0.0158\n",
      "Epoch 32/50\n",
      "122/122 - 1s - loss: 0.0145 - val_loss: 0.0155\n",
      "Epoch 33/50\n",
      "122/122 - 1s - loss: 0.0145 - val_loss: 0.0156\n",
      "Epoch 34/50\n",
      "122/122 - 1s - loss: 0.0145 - val_loss: 0.0156\n",
      "Epoch 35/50\n",
      "122/122 - 1s - loss: 0.0144 - val_loss: 0.0149\n",
      "Epoch 36/50\n",
      "122/122 - 1s - loss: 0.0144 - val_loss: 0.0148\n",
      "Epoch 37/50\n",
      "122/122 - 1s - loss: 0.0144 - val_loss: 0.0149\n",
      "Epoch 38/50\n",
      "122/122 - 1s - loss: 0.0144 - val_loss: 0.0146\n",
      "Epoch 39/50\n",
      "122/122 - 1s - loss: 0.0144 - val_loss: 0.0147\n",
      "Epoch 40/50\n",
      "122/122 - 1s - loss: 0.0144 - val_loss: 0.0143\n",
      "Epoch 41/50\n",
      "122/122 - 1s - loss: 0.0144 - val_loss: 0.0144\n",
      "Epoch 42/50\n",
      "122/122 - 1s - loss: 0.0145 - val_loss: 0.0142\n",
      "Epoch 43/50\n",
      "122/122 - 1s - loss: 0.0144 - val_loss: 0.0141\n",
      "Epoch 44/50\n",
      "122/122 - 1s - loss: 0.0145 - val_loss: 0.0143\n",
      "Epoch 45/50\n",
      "122/122 - 1s - loss: 0.0144 - val_loss: 0.0139\n",
      "Epoch 46/50\n",
      "122/122 - 1s - loss: 0.0144 - val_loss: 0.0142\n",
      "Epoch 47/50\n",
      "122/122 - 1s - loss: 0.0144 - val_loss: 0.0141\n",
      "Epoch 48/50\n",
      "122/122 - 1s - loss: 0.0144 - val_loss: 0.0139\n",
      "Epoch 49/50\n",
      "122/122 - 1s - loss: 0.0144 - val_loss: 0.0140\n",
      "Epoch 50/50\n",
      "122/122 - 1s - loss: 0.0144 - val_loss: 0.0139\n"
     ]
    },
    {
     "data": {
      "image/png": "[encoded data removed]",
      "text/plain": [
       "<Figure size 1152x576 with 1 Axes>"
      ]
     },
     "metadata": {
      "needs_background": "light"
     },
     "output_type": "display_data"
    }
   ],
   "source": [
    "model = tkm.Sequential()\n",
    "model.add(tkl.LSTM(50, input_shape=(X_train.shape[1], X_train.shape[2])))\n",
    "model.add(tkl.Dense(1))\n",
    "model.compile(loss='mae', optimizer='adam')\n",
    "\n",
    "history = model.fit(X_train, y_train, epochs=50, batch_size=72, validation_data=(X_test, y_test), verbose=2, shuffle=False)\n",
    "\n",
    "plt.figure(figsize=[16,8])\n",
    "plt.plot(history.history['loss'], label='train')\n",
    "plt.plot(history.history['val_loss'], label='test')\n",
    "plt.legend();"
   ]
  },
  {
   "cell_type": "markdown",
   "metadata": {},
   "source": [
    "### Predict"
   ]
  },
  {
   "cell_type": "code",
   "execution_count": 11,
   "metadata": {},
   "outputs": [
    {
     "data": {
      "text/plain": [
       "26.5"
      ]
     },
     "execution_count": 11,
     "metadata": {},
     "output_type": "execute_result"
    }
   ],
   "source": [
    "pred = model.predict(X_test)\n",
    "X_test_rs = X_test.reshape((X_test.shape[0], n_lags * n_features))\n",
    "y_test_rs = y_test.reshape((len(y_test), 1))\n",
    "\n",
    "# invert scaling \n",
    "pred_unsc = np.concatenate((pred, X_test_rs[:, -7:]), axis=1)\n",
    "pred_unsc = scaler.inverse_transform(pred_unsc)\n",
    "pred_unsc = pred_unsc[:,0]\n",
    "\n",
    "label_unsc = np.concatenate((y_test_rs, X_test_rs[:, -7:]), axis=1)\n",
    "label_unsc = scaler.inverse_transform(label_unsc)\n",
    "label_unsc = label_unsc[:,0]\n",
    "\n",
    "# calculate RMSE\n",
    "rmse = np.sqrt(skm.mean_squared_error(label_unsc, pred_unsc))\n",
    "round(rmse,2)"
   ]
  },
  {
   "cell_type": "markdown",
   "metadata": {},
   "source": [
    "### Credits & Links"
   ]
  },
  {
   "cell_type": "markdown",
   "metadata": {},
   "source": [
    "https://machinelearningmastery.com/multivariate-time-series-forecasting-lstms-keras/"
   ]
  }
 ],
 "metadata": {
  "kernelspec": {
   "display_name": "Python 3",
   "language": "python",
   "name": "python3"
  },
  "language_info": {
   "codemirror_mode": {
    "name": "ipython",
    "version": 3
   },
   "file_extension": ".py",
   "mimetype": "text/x-python",
   "name": "python",
   "nbconvert_exporter": "python",
   "pygments_lexer": "ipython3",
   "version": "3.8.6"
  }
 },
 "nbformat": 4,
 "nbformat_minor": 4
}
