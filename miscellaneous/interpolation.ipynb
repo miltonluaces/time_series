{
 "cells": [
  {
   "cell_type": "markdown",
   "metadata": {},
   "source": [
    "# Dentonm interpolation"
   ]
  },
  {
   "cell_type": "markdown",
   "metadata": {},
   "source": [
    "Indicator : iprod_monthly  \n",
    "Benchmark : gdp_quaterly  \n",
    "Interpolation : gdp_monthly  "
   ]
  },
  {
   "cell_type": "code",
   "execution_count": 4,
   "metadata": {},
   "outputs": [],
   "source": [
    "from utilities.std_imports import *\n",
    "from statsmodels.tsa.interp import dentonm"
   ]
  },
  {
   "cell_type": "code",
   "execution_count": 51,
   "metadata": {},
   "outputs": [],
   "source": [
    "iprod_monthly = np.array([ 87.4510, 86.9878, 85.5359, 84.7761, 83.8658, 83.5261, 84.4347, 85.2174, 85.7983, 86.0163, 86.2137, 86.7197, 87.7492, 87.9129, 88.3915, 88.7051, 89.9025, 89.9970, 90.7919, 90.9898, 91.2427, 91.1385, 91.4039, 92.5646])\n",
    "gdp_quaterly = np.array([14049.7, 14034.5, 14114.7, 14277.3, 14446.4, 14578.7, 14745.1, 14871.4])\n",
    "gdp_monthly = dentonm(iprod_m, gdp_q, freq=\"qm\")"
   ]
  },
  {
   "cell_type": "markdown",
   "metadata": {},
   "source": [
    "Validation: compare aggregated sum of monthly with quaterly (interpolated monthly matches the benchmark)"
   ]
  },
  {
   "cell_type": "code",
   "execution_count": 52,
   "metadata": {},
   "outputs": [],
   "source": [
    "ts = gdp_m\n",
    "span = 3\n",
    "gdp_m3 = [ts[i:i+span].sum() for i in range(0, len(ts), span)]"
   ]
  },
  {
   "cell_type": "code",
   "execution_count": 53,
   "metadata": {},
   "outputs": [
    {
     "data": {
      "text/html": [
       "<div>\n",
       "<style scoped>\n",
       "    .dataframe tbody tr th:only-of-type {\n",
       "        vertical-align: middle;\n",
       "    }\n",
       "\n",
       "    .dataframe tbody tr th {\n",
       "        vertical-align: top;\n",
       "    }\n",
       "\n",
       "    .dataframe thead th {\n",
       "        text-align: right;\n",
       "    }\n",
       "</style>\n",
       "<table border=\"1\" class=\"dataframe\">\n",
       "  <thead>\n",
       "    <tr style=\"text-align: right;\">\n",
       "      <th></th>\n",
       "      <th>gdp_q</th>\n",
       "      <th>gdp_m3</th>\n",
       "    </tr>\n",
       "  </thead>\n",
       "  <tbody>\n",
       "    <tr>\n",
       "      <th>0</th>\n",
       "      <td>14049.7</td>\n",
       "      <td>14049.7</td>\n",
       "    </tr>\n",
       "    <tr>\n",
       "      <th>1</th>\n",
       "      <td>14034.5</td>\n",
       "      <td>14034.5</td>\n",
       "    </tr>\n",
       "    <tr>\n",
       "      <th>2</th>\n",
       "      <td>14114.7</td>\n",
       "      <td>14114.7</td>\n",
       "    </tr>\n",
       "    <tr>\n",
       "      <th>3</th>\n",
       "      <td>14277.3</td>\n",
       "      <td>14277.3</td>\n",
       "    </tr>\n",
       "    <tr>\n",
       "      <th>4</th>\n",
       "      <td>14446.4</td>\n",
       "      <td>14446.4</td>\n",
       "    </tr>\n",
       "    <tr>\n",
       "      <th>5</th>\n",
       "      <td>14578.7</td>\n",
       "      <td>14578.7</td>\n",
       "    </tr>\n",
       "    <tr>\n",
       "      <th>6</th>\n",
       "      <td>14745.1</td>\n",
       "      <td>14745.1</td>\n",
       "    </tr>\n",
       "    <tr>\n",
       "      <th>7</th>\n",
       "      <td>14871.4</td>\n",
       "      <td>14871.4</td>\n",
       "    </tr>\n",
       "  </tbody>\n",
       "</table>\n",
       "</div>"
      ],
      "text/plain": [
       "     gdp_q   gdp_m3\n",
       "0  14049.7  14049.7\n",
       "1  14034.5  14034.5\n",
       "2  14114.7  14114.7\n",
       "3  14277.3  14277.3\n",
       "4  14446.4  14446.4\n",
       "5  14578.7  14578.7\n",
       "6  14745.1  14745.1\n",
       "7  14871.4  14871.4"
      ]
     },
     "execution_count": 53,
     "metadata": {},
     "output_type": "execute_result"
    }
   ],
   "source": [
    "pd.DataFrame({'gdp_q': gdp_q, 'gdp_m3':gdp_m3})"
   ]
  },
  {
   "cell_type": "markdown",
   "metadata": {},
   "source": [
    "### Credits & Links"
   ]
  },
  {
   "cell_type": "markdown",
   "metadata": {},
   "source": [
    "https://www.researchgate.net/publication/340142416_Time_Series_Analysis_in_Python_with_statsmodels"
   ]
  }
 ],
 "metadata": {
  "kernelspec": {
   "display_name": "Python 3",
   "language": "python",
   "name": "python3"
  },
  "language_info": {
   "codemirror_mode": {
    "name": "ipython",
    "version": 3
   },
   "file_extension": ".py",
   "mimetype": "text/x-python",
   "name": "python",
   "nbconvert_exporter": "python",
   "pygments_lexer": "ipython3",
   "version": "3.8.6"
  }
 },
 "nbformat": 4,
 "nbformat_minor": 4
}
