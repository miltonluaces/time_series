{
 "cells": [
  {
   "cell_type": "markdown",
   "metadata": {},
   "source": [
    "# Pinball loss"
   ]
  },
  {
   "cell_type": "code",
   "execution_count": 9,
   "metadata": {},
   "outputs": [],
   "source": [
    "from IPython import display"
   ]
  },
  {
   "cell_type": "markdown",
   "metadata": {},
   "source": [
    "\n",
    "$\\large\n",
    "L_{\\tau} =\n",
    "\\begin{cases} \n",
    "      (y - z) \\; \\tau & if \\quad z \\le y \\\\\n",
    "      (z - y) \\; (1 - \\tau) &  if \\quad z > y \\\\\n",
    "\\end{cases}\n",
    "$"
   ]
  },
  {
   "cell_type": "code",
   "execution_count": 13,
   "metadata": {},
   "outputs": [
    {
     "data": {
      "image/png": "[encoded data removed]",
      "text/plain": [
       "<IPython.core.display.Image object>"
      ]
     },
     "execution_count": 13,
     "metadata": {},
     "output_type": "execute_result"
    }
   ],
   "source": [
    "display.Image(\"pinball.png\")"
   ]
  },
  {
   "cell_type": "code",
   "execution_count": 4,
   "metadata": {},
   "outputs": [],
   "source": [
    "def pinball_loss(y, z, tau):\n",
    "    if y>=z: return (y-z) * tau\n",
    "    else: return (z-y)* (1-tau)"
   ]
  },
  {
   "cell_type": "markdown",
   "metadata": {},
   "source": [
    "For $\\tau = 0.5$ : it yields back the absolute value so equal penalizing errors    \n",
    "For $\\tau < 0.5$ : it penalizes overpredicting  \n",
    "For $\\tau > 0.5$ : it penalizes underpredicting"
   ]
  },
  {
   "cell_type": "code",
   "execution_count": 19,
   "metadata": {},
   "outputs": [
    {
     "name": "stdout",
     "output_type": "stream",
     "text": [
      "5%\n",
      "underpredicted :  0.75\n",
      "overpredicted  :  14.25\n",
      "50%\n",
      "underpredicted :  7.5\n",
      "overpredicted  :  7.5\n",
      "95%\n",
      "underpredicted :  14.25\n",
      "overpredicted  :  0.75\n"
     ]
    }
   ],
   "source": [
    "u05 = pinball_loss(80, 65, 0.05)\n",
    "o05 = pinball_loss(80, 95, 0.05)\n",
    "u50 = pinball_loss(80, 65, 0.50)\n",
    "o50 = pinball_loss(80, 95, 0.50)\n",
    "u95 = pinball_loss(80, 65, 0.95)\n",
    "o95 = pinball_loss(80, 95, 0.95)\n",
    "\n",
    "print('5%')\n",
    "print('underpredicted : ', round(u05, 2))\n",
    "print('overpredicted  : ', round(o05, 2))\n",
    "print('50%')\n",
    "print('underpredicted : ', round(u50, 2))\n",
    "print('overpredicted  : ', round(o50, 2))\n",
    "print('95%')\n",
    "print('underpredicted : ', round(u95, 2))\n",
    "print('overpredicted  : ', round(o95, 2))"
   ]
  },
  {
   "cell_type": "markdown",
   "metadata": {},
   "source": [
    "### Links"
   ]
  },
  {
   "cell_type": "markdown",
   "metadata": {},
   "source": [
    "http://www.lsta.upmc.fr/BIAU/bp.pdf"
   ]
  }
 ],
 "metadata": {
  "kernelspec": {
   "display_name": "Python 3",
   "language": "python",
   "name": "python3"
  },
  "language_info": {
   "codemirror_mode": {
    "name": "ipython",
    "version": 3
   },
   "file_extension": ".py",
   "mimetype": "text/x-python",
   "name": "python",
   "nbconvert_exporter": "python",
   "pygments_lexer": "ipython3",
   "version": "3.8.6"
  }
 },
 "nbformat": 4,
 "nbformat_minor": 4
}
