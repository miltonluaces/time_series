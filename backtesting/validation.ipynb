{
 "cells": [
  {
   "cell_type": "markdown",
   "metadata": {},
   "source": [
    "# Time series validation"
   ]
  },
  {
   "cell_type": "code",
   "execution_count": 7,
   "metadata": {},
   "outputs": [],
   "source": [
    "import numpy as np\n",
    "from sklearn.model_selection import TimeSeriesSplit\n",
    "from sklearn.metrics import mean_squared_error\n",
    "import statsmodels.api as sm"
   ]
  },
  {
   "cell_type": "code",
   "execution_count": 13,
   "metadata": {},
   "outputs": [
    {
     "name": "stdout",
     "output_type": "stream",
     "text": [
      "Train:  [0] \t\tTest:  [1]\n",
      "Train:  [0 1] \t\tTest:  [2]\n",
      "Train:  [0 1 2] \t\tTest:  [3]\n",
      "Train:  [0 1 2 3] \t\tTest:  [4]\n",
      "Train:  [0 1 2 3 4] \t\tTest:  [5]\n"
     ]
    }
   ],
   "source": [
    "X = np.array([[1, 2], [3, 4], [1, 2], [3, 4], [1, 2], [3, 4]])\n",
    "y = np.array([1, 2, 3, 4, 5, 6])\n",
    "\n",
    "tscv = TimeSeriesSplit()\n",
    "TimeSeriesSplit(max_train_size=None, n_splits=3)\n",
    "\n",
    "for train_index, test_index in tscv.split(X):\n",
    "    print('Train: ', train_index, '\\t\\tTest: ', test_index)\n",
    "    X_train, X_test = X[train_index], X[test_index]\n",
    "    y_train, y_test = y[train_index], y[test_index]"
   ]
  },
  {
   "cell_type": "code",
   "execution_count": null,
   "metadata": {},
   "outputs": [],
   "source": [
    "tscv = TimeSeriesSplit(n_splits = 4)\n",
    "\n",
    "rmse = []\n",
    "for train_index, test_index in tscv.split(cross_validation):\n",
    "    cv_train, cv_test = cross_validation.iloc[train_index], cross_validation.iloc[test_index]\n",
    "    \n",
    "    arma = sm.tsa.ARMA(cv_train, (2,2)).fit(disp=False)\n",
    "    \n",
    "    predictions = arma.predict(cv_test.index.values[0], cv_test.index.values[-1])\n",
    "    true_values = cv_test.values\n",
    "    rmse.append(sqrt(mean_squared_error(true_values, predictions)))\n",
    "    \n",
    "print(\"RMSE: {}\".format(np.mean(rmse)))"
   ]
  },
  {
   "cell_type": "code",
   "execution_count": 16,
   "metadata": {},
   "outputs": [],
   "source": [
    "class BlockingTimeSeriesSplit():\n",
    "    def __init__(self, n_splits):\n",
    "        self.n_splits = n_splits\n",
    "    \n",
    "    def get_n_splits(self, X, y, groups):\n",
    "        return self.n_splits\n",
    "    \n",
    "    def split(self, X, y=None, groups=None):\n",
    "        n_samples = len(X)\n",
    "        k_fold_size = n_samples // self.n_splits\n",
    "        indices = np.arange(n_samples)\n",
    "\n",
    "        margin = 0\n",
    "        for i in range(self.n_splits):\n",
    "            start = i * k_fold_size\n",
    "            stop = start + k_fold_size\n",
    "            mid = int(0.8 * (stop - start)) + start\n",
    "            yield indices[start: mid], indices[mid + margin: stop]"
   ]
  },
  {
   "cell_type": "code",
   "execution_count": null,
   "metadata": {},
   "outputs": [],
   "source": [
    "btss = BlockingTimeSeriesSplit(n_splits=3)\n",
    "scores = cross_val_score(model, X_train, y_train, cv=btss, scoring=r2)"
   ]
  },
  {
   "cell_type": "markdown",
   "metadata": {},
   "source": [
    "### Credits & Links"
   ]
  },
  {
   "cell_type": "markdown",
   "metadata": {},
   "source": [
    "https://medium.com/@soumyachess1496/cross-validation-in-time-series-566ae4981ce4  \n",
    "https://hub.packtpub.com/cross-validation-strategies-for-time-series-forecasting-tutorial/"
   ]
  }
 ],
 "metadata": {
  "kernelspec": {
   "display_name": "Python 3",
   "language": "python",
   "name": "python3"
  },
  "language_info": {
   "codemirror_mode": {
    "name": "ipython",
    "version": 3
   },
   "file_extension": ".py",
   "mimetype": "text/x-python",
   "name": "python",
   "nbconvert_exporter": "python",
   "pygments_lexer": "ipython3",
   "version": "3.8.6"
  }
 },
 "nbformat": 4,
 "nbformat_minor": 4
}
