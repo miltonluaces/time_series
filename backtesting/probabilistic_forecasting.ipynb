{
 "cells": [
  {
   "cell_type": "markdown",
   "metadata": {},
   "source": [
    "# Probabilistic forecasting"
   ]
  },
  {
   "cell_type": "code",
   "execution_count": 6,
   "metadata": {},
   "outputs": [],
   "source": [
    "import sys\n",
    "sys.path.append('D:/source/repos')\n",
    "from utilities.std_imports import *\n",
    "import properscoring as ps"
   ]
  },
  {
   "cell_type": "markdown",
   "metadata": {},
   "source": [
    "### Point forecast\n",
    "Expectation of Y at t+k given t and given a model (m), information at time t ($\\Omega_t$) and parameters at time t ($\\theta_t$)"
   ]
  },
  {
   "cell_type": "markdown",
   "metadata": {},
   "source": [
    "$\\large \\hat{y}_{t+k|t} = E[Y_{t+k|t} | m, \\Omega_t, \\theta_t]$"
   ]
  },
  {
   "cell_type": "markdown",
   "metadata": {},
   "source": [
    "### Probabilistic forecast\n",
    "**Quantile forecast**  \n",
    "With q = 0.9, one expect than the observations are to be less than the forecast 90% of the times"
   ]
  },
  {
   "cell_type": "markdown",
   "metadata": {},
   "source": [
    "$\\large P(Y_{t+k|t} \\le \\hat{y}_{t+k|t}^{(q)} | m, \\Omega_t, \\theta_t) = q $"
   ]
  },
  {
   "cell_type": "markdown",
   "metadata": {},
   "source": [
    "**Interval forecast**  \n",
    "With a nominal coverage of 90%, one expect than the observations are to be covered by this prediction (true value within interval) 90% of the times"
   ]
  },
  {
   "cell_type": "markdown",
   "metadata": {},
   "source": [
    "$\\large \\hat{I}_{t+k|t} = [\\hat{y}_{t+k|t}^{(q=\\alpha/2)} \\;, \\; \\hat{y}_{t+k|t}^{(q=1-\\alpha/2)}]$"
   ]
  },
  {
   "cell_type": "markdown",
   "metadata": {},
   "source": [
    "### Brier score\n",
    "A measure of the mean-square error of probability forecasts for a dichotomous event"
   ]
  },
  {
   "cell_type": "markdown",
   "metadata": {},
   "source": [
    "$\\large BS = \\frac{1}{n} \\sum_{t=1}^{n} (y_i - o_i)^2 $ "
   ]
  },
  {
   "cell_type": "markdown",
   "metadata": {},
   "source": [
    "Brier score skill: an application of generic skill to BS"
   ]
  },
  {
   "cell_type": "markdown",
   "metadata": {},
   "source": [
    "$\\large BSS = \\frac{BS - BS_{ref}}{0 - BS_{ref}} =  1 - \\frac{BS}{BS_{ref}}$"
   ]
  },
  {
   "cell_type": "markdown",
   "metadata": {},
   "source": [
    "### Continuous Ranked Probability Score (CRPS)"
   ]
  },
  {
   "cell_type": "markdown",
   "metadata": {},
   "source": [
    "It can be considered as the MSE OF predicted cdf and true cdf.  \n",
    "For probabilistic forecast. It can be compared directly with MAE for point forecast"
   ]
  },
  {
   "cell_type": "markdown",
   "metadata": {},
   "source": [
    "$\\large C = \\frac{1}{199N} \\sum_{m=1}^{N} \\sum_{n=-99}^{99} (P(y \\le n) -H(n - Y_m))^2 $"
   ]
  },
  {
   "cell_type": "code",
   "execution_count": 9,
   "metadata": {},
   "outputs": [
    {
     "data": {
      "text/plain": [
       "0.2759731106863086"
      ]
     },
     "execution_count": 9,
     "metadata": {},
     "output_type": "execute_result"
    }
   ],
   "source": [
    "obs = [-2, -1, 0, 1, 2]\n",
    "baseline_score = ps.crps_ensemble(obs, [0, 0, 0, 0, 0]).mean()\n",
    "forecast_score = ps.crps_gaussian(obs, mu=0, sig=1).mean()\n",
    "skill = (baseline_score - forecast_score) / baseline_score\n",
    "skill"
   ]
  },
  {
   "cell_type": "markdown",
   "metadata": {},
   "source": [
    "### Quality measures"
   ]
  },
  {
   "cell_type": "markdown",
   "metadata": {},
   "source": [
    "Sharpness (informative), Skilled (better than benchmark)  \n",
    "Skill, Reliability (calibration)   \n",
    "Resolution, Discrimination  "
   ]
  },
  {
   "cell_type": "markdown",
   "metadata": {},
   "source": [
    "### Links"
   ]
  },
  {
   "cell_type": "markdown",
   "metadata": {},
   "source": [
    "https://orbi.uliege.be/bitstream/2268/252531/1/2020-ELEN0445-1-microgrids-forecasting-lesson-2.pdf  \n",
    "https://metclim.ucd.ie/wp-content/uploads/2018/02/Probabilistic-Skill-Scores.pdf"
   ]
  },
  {
   "cell_type": "markdown",
   "metadata": {},
   "source": [
    "https://pypi.org/project/properscoring/  \n",
    "https://journals.ametsoc.org/view/journals/wefo/15/5/1520-0434_2000_015_0559_dotcrp_2_0_co_2.xml  \n",
    "https://github.com/saattrupdan/doubt/blob/master/doubt/models/linear/qreg.py  \n",
    "https://mran.microsoft.com/snapshot/2017-12-15/web/packages/scoringRules/vignettes/article.pdf  \n",
    "https://www.7thverificationworkshop.de/Presentation/HIW_6_Lerch.pdf"
   ]
  }
 ],
 "metadata": {
  "kernelspec": {
   "display_name": "Python 3",
   "language": "python",
   "name": "python3"
  },
  "language_info": {
   "codemirror_mode": {
    "name": "ipython",
    "version": 3
   },
   "file_extension": ".py",
   "mimetype": "text/x-python",
   "name": "python",
   "nbconvert_exporter": "python",
   "pygments_lexer": "ipython3",
   "version": "3.8.6"
  }
 },
 "nbformat": 4,
 "nbformat_minor": 4
}
