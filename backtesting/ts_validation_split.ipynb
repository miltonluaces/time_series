{
 "cells": [
  {
   "cell_type": "markdown",
   "metadata": {},
   "source": [
    "# Time series back-testing"
   ]
  },
  {
   "cell_type": "code",
   "execution_count": 4,
   "metadata": {},
   "outputs": [],
   "source": [
    "import sys\n",
    "sys.path.append('D:/source/repos')\n",
    "from utilities.std_imports import *\n",
    "import time_series.back_testing.bt_utils as btu"
   ]
  },
  {
   "cell_type": "markdown",
   "metadata": {},
   "source": [
    "### Split methods"
   ]
  },
  {
   "cell_type": "code",
   "execution_count": 5,
   "metadata": {},
   "outputs": [
    {
     "name": "stdout",
     "output_type": "stream",
     "text": [
      "1866 1866\n"
     ]
    },
    {
     "data": {
      "text/plain": [
       "((360,), (7,))"
      ]
     },
     "execution_count": 5,
     "metadata": {},
     "output_type": "execute_result"
    }
   ],
   "source": [
    "ds = pd.read_csv(csv_path + 'time_series/trains.csv', header=0, index_col=0)\n",
    "ts = ds['Count']\n",
    "\n",
    "trains, tests = btu.split_uni(ts, hist=360, fhor=7)\n",
    "print(len(trains), len(tests))\n",
    "trains[0].shape, tests[0].shape"
   ]
  },
  {
   "cell_type": "code",
   "execution_count": 6,
   "metadata": {},
   "outputs": [
    {
     "name": "stdout",
     "output_type": "stream",
     "text": [
      "3 3\n",
      "1866 1866\n",
      "(360,) (7,)\n"
     ]
    }
   ],
   "source": [
    "tss = [ts, ts, ts]\n",
    "trainss, testss = btu.split_multi(tss=tss, hist=360, fhor=7)\n",
    "print(len(trainss), len(testss))\n",
    "print(len(trainss[0]), len(testss[0]))\n",
    "print(trainss[0][0].shape, testss[0][0].shape)"
   ]
  },
  {
   "cell_type": "code",
   "execution_count": null,
   "metadata": {},
   "outputs": [],
   "source": [
    "# Aggregation\n",
    "# Re Training or only processing\n",
    "# Metrics\n",
    "# Confidence intervals\n",
    "# N parameters on error\n",
    "# Time series of accuracy, variance\n",
    "# Comparison with naive, improvement, n parameters"
   ]
  }
 ],
 "metadata": {
  "kernelspec": {
   "display_name": "Python 3",
   "language": "python",
   "name": "python3"
  },
  "language_info": {
   "codemirror_mode": {
    "name": "ipython",
    "version": 3
   },
   "file_extension": ".py",
   "mimetype": "text/x-python",
   "name": "python",
   "nbconvert_exporter": "python",
   "pygments_lexer": "ipython3",
   "version": "3.8.6"
  }
 },
 "nbformat": 4,
 "nbformat_minor": 4
}
