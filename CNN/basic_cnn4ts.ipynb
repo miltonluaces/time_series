{
 "cells": [
  {
   "cell_type": "markdown",
   "metadata": {},
   "source": [
    "# Basic CNN for Time series Forecasting"
   ]
  },
  {
   "cell_type": "code",
   "execution_count": 1,
   "metadata": {},
   "outputs": [],
   "source": [
    "from utilities.std_imports import *\n",
    "from utilities.tf_imports import *"
   ]
  },
  {
   "cell_type": "markdown",
   "metadata": {},
   "source": [
    "### Split time series into samples for training"
   ]
  },
  {
   "cell_type": "code",
   "execution_count": 27,
   "metadata": {},
   "outputs": [],
   "source": [
    "def create_samples(ts, steps):\n",
    "    X, y = [], []\n",
    "    for i in range(len(ts)):\n",
    "        end_idx = i + steps\n",
    "        if end_idx > len(ts)-1:\n",
    "            break\n",
    "        xi, yi = ts[i:end_idx], ts[end_idx]\n",
    "        X.append(xi)\n",
    "        y.append(yi)\n",
    "    return array(X), array(y)"
   ]
  },
  {
   "cell_type": "markdown",
   "metadata": {},
   "source": [
    "### Generate data"
   ]
  },
  {
   "cell_type": "code",
   "execution_count": 28,
   "metadata": {},
   "outputs": [
    {
     "data": {
      "text/plain": [
       "(array([[[10],\n",
       "         [20],\n",
       "         [30]],\n",
       " \n",
       "        [[20],\n",
       "         [30],\n",
       "         [40]],\n",
       " \n",
       "        [[30],\n",
       "         [40],\n",
       "         [50]],\n",
       " \n",
       "        [[40],\n",
       "         [50],\n",
       "         [60]],\n",
       " \n",
       "        [[50],\n",
       "         [60],\n",
       "         [70]],\n",
       " \n",
       "        [[60],\n",
       "         [70],\n",
       "         [80]]]),\n",
       " array([40, 50, 60, 70, 80, 90]))"
      ]
     },
     "execution_count": 28,
     "metadata": {},
     "output_type": "execute_result"
    }
   ],
   "source": [
    "ts = [10, 20, 30, 40, 50, 60, 70, 80, 90]\n",
    "steps = 3\n",
    "\n",
    "X, y = create_samples(ts, steps)\n",
    "n_features = 1\n",
    "X = X.reshape((X.shape[0], X.shape[1], n_features))\n",
    "X,y"
   ]
  },
  {
   "cell_type": "markdown",
   "metadata": {},
   "source": [
    "### Build model and fit"
   ]
  },
  {
   "cell_type": "code",
   "execution_count": 29,
   "metadata": {},
   "outputs": [
    {
     "data": {
      "text/plain": [
       "<tensorflow.python.keras.callbacks.History at 0x1ae86080520>"
      ]
     },
     "execution_count": 29,
     "metadata": {},
     "output_type": "execute_result"
    }
   ],
   "source": [
    "model = tkm.Sequential()\n",
    "model.add(tkl.Conv1D(filters=64, kernel_size=2, activation='relu', input_shape=(n_steps, n_features)))\n",
    "model.add(tkl.MaxPooling1D(pool_size=2))\n",
    "model.add(tkl.Flatten())\n",
    "model.add(tkl.Dense(50, activation='relu'))\n",
    "model.add(tkl.Dense(1))\n",
    "\n",
    "model.compile(optimizer='adam', loss='mse')\n",
    "model.fit(X, y, epochs=1000, verbose=0)"
   ]
  },
  {
   "cell_type": "markdown",
   "metadata": {},
   "source": [
    "### Prediction"
   ]
  },
  {
   "cell_type": "code",
   "execution_count": 30,
   "metadata": {},
   "outputs": [
    {
     "name": "stdout",
     "output_type": "stream",
     "text": [
      "WARNING:tensorflow:5 out of the last 10 calls to <function Model.make_predict_function.<locals>.predict_function at 0x000001AE8617D550> triggered tf.function retracing. Tracing is expensive and the excessive number of tracings could be due to (1) creating @tf.function repeatedly in a loop, (2) passing tensors with different shapes, (3) passing Python objects instead of tensors. For (1), please define your @tf.function outside of the loop. For (2), @tf.function has experimental_relax_shapes=True option that relaxes argument shapes that can avoid unnecessary retracing. For (3), please refer to https://www.tensorflow.org/guide/function#controlling_retracing and https://www.tensorflow.org/api_docs/python/tf/function for  more details.\n",
      "One step forecast : 101.41\n"
     ]
    }
   ],
   "source": [
    "x = array([70, 80, 90])\n",
    "x = x_input.reshape((1, steps, n_features))\n",
    "pred = model.predict(x_input, verbose=0)\n",
    "print('One step forecast :', round(pred[0][0],2))"
   ]
  },
  {
   "cell_type": "markdown",
   "metadata": {},
   "source": [
    "### Credits & Links"
   ]
  },
  {
   "cell_type": "markdown",
   "metadata": {},
   "source": [
    "https://machinelearningmastery.com/how-to-develop-convolutional-neural-network-models-for-time-series-forecasting/"
   ]
  }
 ],
 "metadata": {
  "kernelspec": {
   "display_name": "Python 3",
   "language": "python",
   "name": "python3"
  },
  "language_info": {
   "codemirror_mode": {
    "name": "ipython",
    "version": 3
   },
   "file_extension": ".py",
   "mimetype": "text/x-python",
   "name": "python",
   "nbconvert_exporter": "python",
   "pygments_lexer": "ipython3",
   "version": "3.8.6"
  }
 },
 "nbformat": 4,
 "nbformat_minor": 4
}
