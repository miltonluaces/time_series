{
 "cells": [
  {
   "cell_type": "code",
   "execution_count": 15,
   "metadata": {},
   "outputs": [],
   "source": [
    "from utilities.std_imports import *\n",
    "import tensorflow as tf"
   ]
  },
  {
   "cell_type": "code",
   "execution_count": 7,
   "metadata": {},
   "outputs": [
    {
     "name": "stdout",
     "output_type": "stream",
     "text": [
      "Model: \"sequential_1\"\n",
      "_________________________________________________________________\n",
      "Layer (type)                 Output Shape              Param #   \n",
      "=================================================================\n",
      "dense_3 (Dense)              (None, 5)                 30        \n",
      "_________________________________________________________________\n",
      "dense_4 (Dense)              (None, 2)                 12        \n",
      "_________________________________________________________________\n",
      "dense_5 (Dense)              (None, 5)                 15        \n",
      "=================================================================\n",
      "Total params: 57\n",
      "Trainable params: 57\n",
      "Non-trainable params: 0\n",
      "_________________________________________________________________\n"
     ]
    }
   ],
   "source": [
    "input_dim = 5\n",
    "hidden_dim = 2\n",
    "batch_size = 1\n",
    "epochs = 30\n",
    "\n",
    "autoencoder = tf.keras.models.Sequential([\n",
    "    tf.keras.layers.Dense(input_dim, activation='elu', input_shape=(input_dim, )), \n",
    "    tf.keras.layers.Dense(hidden_dim, activation='elu'),\n",
    "    tf.keras.layers.Dense(input_dim, activation='elu')\n",
    "])\n",
    "\n",
    "autoencoder.compile(optimizer='adam', loss='mse', metrics=['acc'])\n",
    "autoencoder.summary();"
   ]
  },
  {
   "cell_type": "code",
   "execution_count": 8,
   "metadata": {},
   "outputs": [
    {
     "data": {
      "text/html": [
       "<div>\n",
       "<style scoped>\n",
       "    .dataframe tbody tr th:only-of-type {\n",
       "        vertical-align: middle;\n",
       "    }\n",
       "\n",
       "    .dataframe tbody tr th {\n",
       "        vertical-align: top;\n",
       "    }\n",
       "\n",
       "    .dataframe thead th {\n",
       "        text-align: right;\n",
       "    }\n",
       "</style>\n",
       "<table border=\"1\" class=\"dataframe\">\n",
       "  <thead>\n",
       "    <tr style=\"text-align: right;\">\n",
       "      <th></th>\n",
       "      <th>v1</th>\n",
       "      <th>v2</th>\n",
       "      <th>v3</th>\n",
       "      <th>v4</th>\n",
       "      <th>v5</th>\n",
       "    </tr>\n",
       "  </thead>\n",
       "  <tbody>\n",
       "    <tr>\n",
       "      <th>0</th>\n",
       "      <td>4</td>\n",
       "      <td>0.1</td>\n",
       "      <td>0.10</td>\n",
       "      <td>0.1</td>\n",
       "      <td>0.1</td>\n",
       "    </tr>\n",
       "    <tr>\n",
       "      <th>1</th>\n",
       "      <td>4</td>\n",
       "      <td>0.1</td>\n",
       "      <td>0.70</td>\n",
       "      <td>0.3</td>\n",
       "      <td>0.1</td>\n",
       "    </tr>\n",
       "    <tr>\n",
       "      <th>2</th>\n",
       "      <td>4</td>\n",
       "      <td>0.2</td>\n",
       "      <td>0.20</td>\n",
       "      <td>0.2</td>\n",
       "      <td>0.2</td>\n",
       "    </tr>\n",
       "    <tr>\n",
       "      <th>3</th>\n",
       "      <td>5</td>\n",
       "      <td>0.2</td>\n",
       "      <td>0.20</td>\n",
       "      <td>0.2</td>\n",
       "      <td>0.2</td>\n",
       "    </tr>\n",
       "    <tr>\n",
       "      <th>4</th>\n",
       "      <td>5</td>\n",
       "      <td>0.3</td>\n",
       "      <td>0.30</td>\n",
       "      <td>0.4</td>\n",
       "      <td>0.3</td>\n",
       "    </tr>\n",
       "    <tr>\n",
       "      <th>5</th>\n",
       "      <td>6</td>\n",
       "      <td>0.2</td>\n",
       "      <td>0.30</td>\n",
       "      <td>0.2</td>\n",
       "      <td>0.2</td>\n",
       "    </tr>\n",
       "    <tr>\n",
       "      <th>6</th>\n",
       "      <td>8</td>\n",
       "      <td>0.8</td>\n",
       "      <td>0.80</td>\n",
       "      <td>0.8</td>\n",
       "      <td>0.6</td>\n",
       "    </tr>\n",
       "    <tr>\n",
       "      <th>7</th>\n",
       "      <td>14</td>\n",
       "      <td>0.9</td>\n",
       "      <td>0.90</td>\n",
       "      <td>0.9</td>\n",
       "      <td>0.3</td>\n",
       "    </tr>\n",
       "    <tr>\n",
       "      <th>8</th>\n",
       "      <td>25</td>\n",
       "      <td>0.2</td>\n",
       "      <td>0.12</td>\n",
       "      <td>0.2</td>\n",
       "      <td>0.2</td>\n",
       "    </tr>\n",
       "    <tr>\n",
       "      <th>9</th>\n",
       "      <td>32</td>\n",
       "      <td>0.5</td>\n",
       "      <td>0.15</td>\n",
       "      <td>0.5</td>\n",
       "      <td>0.1</td>\n",
       "    </tr>\n",
       "  </tbody>\n",
       "</table>\n",
       "</div>"
      ],
      "text/plain": [
       "   v1   v2    v3   v4   v5\n",
       "0   4  0.1  0.10  0.1  0.1\n",
       "1   4  0.1  0.70  0.3  0.1\n",
       "2   4  0.2  0.20  0.2  0.2\n",
       "3   5  0.2  0.20  0.2  0.2\n",
       "4   5  0.3  0.30  0.4  0.3\n",
       "5   6  0.2  0.30  0.2  0.2\n",
       "6   8  0.8  0.80  0.8  0.6\n",
       "7  14  0.9  0.90  0.9  0.3\n",
       "8  25  0.2  0.12  0.2  0.2\n",
       "9  32  0.5  0.15  0.5  0.1"
      ]
     },
     "execution_count": 8,
     "metadata": {},
     "output_type": "execute_result"
    }
   ],
   "source": [
    "v1 = [4, 4, 4, 5, 5, 6, 8, 14, 25, 32]\n",
    "v2 = [0.1, 0.1, 0.2, 0.2, 0.3, 0.2, 0.8, 0.9, 0.2, 0.5]\n",
    "v3 = [0.1, 0.7, 0.2, 0.2, 0.3, 0.3, 0.8, 0.9, 0.12, 0.15]\n",
    "v4 = [0.1, 0.3, 0.2, 0.2, 0.4, 0.2, 0.8, 0.9, 0.2, 0.5]\n",
    "v5 = [0.1, 0.1, 0.2, 0.2, 0.3, 0.2, 0.6, 0.3, 0.2, 0.1]\n",
    "\n",
    "df = pd.DataFrame({'v1': v1, 'v2': v2, 'v3': v3, 'v4': v4, 'v5': v5, })\n",
    "df"
   ]
  },
  {
   "cell_type": "code",
   "execution_count": 11,
   "metadata": {},
   "outputs": [],
   "source": [
    "df_train = df.iloc[0:7,]\n",
    "df_test = df.iloc[7:,]"
   ]
  },
  {
   "cell_type": "code",
   "execution_count": 12,
   "metadata": {},
   "outputs": [
    {
     "name": "stdout",
     "output_type": "stream",
     "text": [
      "Epoch 1/30\n",
      "7/7 [==============================] - 0s 1ms/step - loss: 5.9080 - acc: 0.0000e+00\n",
      "Epoch 2/30\n",
      "7/7 [==============================] - 0s 714us/step - loss: 5.8183 - acc: 0.0000e+00\n",
      "Epoch 3/30\n",
      "7/7 [==============================] - 0s 859us/step - loss: 5.7334 - acc: 0.0000e+00\n",
      "Epoch 4/30\n",
      "7/7 [==============================] - 0s 1ms/step - loss: 5.6453 - acc: 0.0000e+00\n",
      "Epoch 5/30\n",
      "7/7 [==============================] - 0s 1ms/step - loss: 5.5577 - acc: 0.0000e+00\n",
      "Epoch 6/30\n",
      "7/7 [==============================] - 0s 851us/step - loss: 5.4702 - acc: 0.0000e+00\n",
      "Epoch 7/30\n",
      "7/7 [==============================] - 0s 1ms/step - loss: 5.3868 - acc: 0.0000e+00\n",
      "Epoch 8/30\n",
      "7/7 [==============================] - 0s 857us/step - loss: 5.2948 - acc: 0.0000e+00\n",
      "Epoch 9/30\n",
      "7/7 [==============================] - 0s 998us/step - loss: 5.2187 - acc: 0.0000e+00\n",
      "Epoch 10/30\n",
      "7/7 [==============================] - 0s 706us/step - loss: 5.1283 - acc: 0.0000e+00\n",
      "Epoch 11/30\n",
      "7/7 [==============================] - 0s 1ms/step - loss: 5.0424 - acc: 0.0000e+00\n",
      "Epoch 12/30\n",
      "7/7 [==============================] - 0s 669us/step - loss: 4.9578 - acc: 0.0000e+00\n",
      "Epoch 13/30\n",
      "7/7 [==============================] - 0s 857us/step - loss: 4.8824 - acc: 0.1429\n",
      "Epoch 14/30\n",
      "7/7 [==============================] - 0s 762us/step - loss: 4.7835 - acc: 1.0000\n",
      "Epoch 15/30\n",
      "7/7 [==============================] - 0s 853us/step - loss: 4.7044 - acc: 1.0000\n",
      "Epoch 16/30\n",
      "7/7 [==============================] - 0s 857us/step - loss: 4.6112 - acc: 1.0000\n",
      "Epoch 17/30\n",
      "7/7 [==============================] - 0s 854us/step - loss: 4.5248 - acc: 1.0000\n",
      "Epoch 18/30\n",
      "7/7 [==============================] - 0s 857us/step - loss: 4.4273 - acc: 1.0000\n",
      "Epoch 19/30\n",
      "7/7 [==============================] - 0s 715us/step - loss: 4.3384 - acc: 1.0000\n",
      "Epoch 20/30\n",
      "7/7 [==============================] - 0s 857us/step - loss: 4.2379 - acc: 1.0000\n",
      "Epoch 21/30\n",
      "7/7 [==============================] - 0s 716us/step - loss: 4.1434 - acc: 1.0000\n",
      "Epoch 22/30\n",
      "7/7 [==============================] - 0s 860us/step - loss: 4.0500 - acc: 1.0000\n",
      "Epoch 23/30\n",
      "7/7 [==============================] - 0s 714us/step - loss: 3.9468 - acc: 1.0000\n",
      "Epoch 24/30\n",
      "7/7 [==============================] - 0s 857us/step - loss: 3.8261 - acc: 1.0000\n",
      "Epoch 25/30\n",
      "7/7 [==============================] - 0s 714us/step - loss: 3.7209 - acc: 1.0000\n",
      "Epoch 26/30\n",
      "7/7 [==============================] - 0s 857us/step - loss: 3.5916 - acc: 1.0000\n",
      "Epoch 27/30\n",
      "7/7 [==============================] - 0s 714us/step - loss: 3.4639 - acc: 1.0000\n",
      "Epoch 28/30\n",
      "7/7 [==============================] - 0s 856us/step - loss: 3.3433 - acc: 1.0000\n",
      "Epoch 29/30\n",
      "7/7 [==============================] - 0s 715us/step - loss: 3.1981 - acc: 1.0000\n",
      "Epoch 30/30\n",
      "7/7 [==============================] - 0s 857us/step - loss: 3.0507 - acc: 1.0000\n"
     ]
    }
   ],
   "source": [
    "hist = autoencoder.fit(df_train, df_train, epochs=epochs, batch_size=1, shuffle=True,);"
   ]
  },
  {
   "cell_type": "code",
   "execution_count": 13,
   "metadata": {},
   "outputs": [
    {
     "data": {
      "text/plain": [
       "array([[ 2.5721781 , -0.63958955, -0.33071017, -0.85374564,  1.405326  ],\n",
       "       [ 2.4430249 , -0.5210247 , -0.35516614, -0.8234262 ,  1.3386637 ],\n",
       "       [ 2.8052077 , -0.6638105 , -0.37469715, -0.87986547,  1.5674452 ]],\n",
       "      dtype=float32)"
      ]
     },
     "execution_count": 13,
     "metadata": {},
     "output_type": "execute_result"
    }
   ],
   "source": [
    "pred = autoencoder.predict(df_test)\n",
    "pred"
   ]
  },
  {
   "cell_type": "code",
   "execution_count": 17,
   "metadata": {},
   "outputs": [
    {
     "data": {
      "text/plain": [
       "7     27.755493\n",
       "8    102.381349\n",
       "9    171.604616\n",
       "dtype: float64"
      ]
     },
     "execution_count": 17,
     "metadata": {},
     "output_type": "execute_result"
    }
   ],
   "source": [
    "mse = np.mean(np.power(df_test - pred, 2), axis=1)\n",
    "mse"
   ]
  },
  {
   "cell_type": "code",
   "execution_count": null,
   "metadata": {},
   "outputs": [],
   "source": []
  }
 ],
 "metadata": {
  "kernelspec": {
   "display_name": "Python 3",
   "language": "python",
   "name": "python3"
  },
  "language_info": {
   "codemirror_mode": {
    "name": "ipython",
    "version": 3
   },
   "file_extension": ".py",
   "mimetype": "text/x-python",
   "name": "python",
   "nbconvert_exporter": "python",
   "pygments_lexer": "ipython3",
   "version": "3.8.6"
  }
 },
 "nbformat": 4,
 "nbformat_minor": 4
}
